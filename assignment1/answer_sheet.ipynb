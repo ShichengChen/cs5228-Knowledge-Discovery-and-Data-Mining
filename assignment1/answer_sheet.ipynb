{
 "cells": [
  {
   "cell_type": "markdown",
   "metadata": {},
   "source": [
    "#### Assignment 1  - Your Name Here (Your NUSNET ID Here)\n",
    "This answer sheet contains your answer to questions in Section 1~4. Sentences in <span style=\"color:blue\">blue</span> indicates questions to be answered. \n",
    "\n",
    "For open questions, please organize your answer into \"points\" to ease our grading efforts. For example, an answer to \"What is the most popular item? Explain you answer and describe any assumptions you’ve made.\" should look like:\n",
    "\n",
    "> The most popular item ID is 12345. The reason is that:\n",
    "> - reason 1\n",
    "> - reason 2\n",
    "> \n",
    "> I've made the following assumptions:\n",
    "> - assumption 1\n",
    "> - assumption 2\n",
    "\n",
    "If you wish to type math equations in markdown, follow this link: https://jupyter-notebook.readthedocs.io/en/stable/examples/Notebook/Working%20With%20Markdown%20Cells.html#LaTeX-equations\n",
    "\n",
    "Remember to save this Jupyter notebook as __YourNameInLumiNUS_YourNUSNETID.ipynb__."
   ]
  },
  {
   "cell_type": "markdown",
   "metadata": {},
   "source": [
    "**Import all libraries and load data here**"
   ]
  },
  {
   "cell_type": "code",
   "execution_count": 4,
   "metadata": {
    "ExecuteTime": {
     "end_time": "2020-09-25T11:29:33.705611Z",
     "start_time": "2020-09-25T11:29:33.703153Z"
    }
   },
   "outputs": [],
   "source": [
    "# This is a code cell\n",
    "# -- Import all libraries and load data in this cell --\n",
    "from sklearn.cluster import KMeans\n",
    "import numpy as np\n",
    "import joblib\n",
    "import matplotlib.pyplot as plt\n",
    "import pandas as pd\n",
    "import tqdm,itertools\n",
    "from itertools import permutations\n",
    "from efficient_apriori import apriori"
   ]
  },
  {
   "cell_type": "code",
   "execution_count": 5,
   "metadata": {
    "ExecuteTime": {
     "end_time": "2020-09-25T11:29:35.414377Z",
     "start_time": "2020-09-25T11:29:35.407015Z"
    }
   },
   "outputs": [
    {
     "name": "stderr",
     "output_type": "stream",
     "text": [
      "/home/csc/anaconda3/lib/python3.6/site-packages/sklearn/cluster/k_means_.py:896: RuntimeWarning: Explicit initial center position passed: performing only one init in k-means instead of n_init=10\n",
      "  return_n_iter=True)\n"
     ]
    },
    {
     "data": {
      "text/plain": [
       "(array([0, 0, 0, 1, 1, 1, 2, 2, 2], dtype=int32), array([[ 0.,  1.],\n",
       "        [ 0.,  0.],\n",
       "        [ 0., -1.]]))"
      ]
     },
     "execution_count": 5,
     "metadata": {},
     "output_type": "execute_result"
    }
   ],
   "source": [
    "X = np.array([[-5, 1], [0, 1], [5, 1],[-5, 0], [0, 0], [5, 0],[-5, -1], [0, -1], [5, -1]])\n",
    "kmeans = KMeans(n_clusters=3, init=np.array([[0,1],[0,0],[0,-1]])).fit(X)\n",
    "kmeans.labels_,kmeans.cluster_centers_"
   ]
  },
  {
   "cell_type": "code",
   "execution_count": 8,
   "metadata": {
    "ExecuteTime": {
     "end_time": "2020-09-25T11:30:04.805965Z",
     "start_time": "2020-09-25T11:30:04.798554Z"
    }
   },
   "outputs": [
    {
     "name": "stderr",
     "output_type": "stream",
     "text": [
      "/home/csc/anaconda3/lib/python3.6/site-packages/sklearn/cluster/k_means_.py:896: RuntimeWarning: Explicit initial center position passed: performing only one init in k-means instead of n_init=100\n",
      "  return_n_iter=True)\n"
     ]
    },
    {
     "data": {
      "text/plain": [
       "(array([0, 2, 1, 0, 2, 1, 0, 2, 1], dtype=int32), array([[-5.,  0.],\n",
       "        [ 5.,  0.],\n",
       "        [ 0.,  0.]]))"
      ]
     },
     "execution_count": 8,
     "metadata": {},
     "output_type": "execute_result"
    }
   ],
   "source": [
    "X = np.array([[-5, 1], [0, 1], [5, 1],[-5, 0], [0, 0], [5, 0],[-5, -1], [0, -1], [5, -1]])\n",
    "kmeans = KMeans(n_clusters=3, init=np.array([[-5,1],[5,-1],[0,0]]),n_init=100).fit(X)\n",
    "kmeans.labels_,kmeans.cluster_centers_"
   ]
  },
  {
   "cell_type": "markdown",
   "metadata": {},
   "source": [
    "### Section 1 - Clustering and Initialization (20 points)"
   ]
  },
  {
   "cell_type": "markdown",
   "metadata": {},
   "source": [
    "<span style=\"color:blue\"> Consider the nine data points (A, B, C, D, E, F, G, H, I) in Fig. 1. Taking the points D, E, and F as the initial cluster centers, apply the K-Means algorithm on the data, with the number of clusters K = 3. At the end of each iteration, list the positions of the cluster centers, as well as the set of points belonging to each cluster. Do you think this clustering result is satisfactory? </span>"
   ]
  },
  {
   "cell_type": "markdown",
   "metadata": {},
   "source": [
    "- Cluster_1 includes A,D,G and the center of cluster_1 is (0,1)\n",
    "- Cluster_2 includes B,E,H and the center of cluster_1 is (0,0)\n",
    "- Cluster_3 includes C,F,I and the center of cluster_1 is (0,-1)\n",
    "\n",
    "- I am not satisfied with the results. I perfer that points A,B,C, points D,E,F, and points G,H,I belong to the first, second and third cluster respectively."
   ]
  },
  {
   "cell_type": "markdown",
   "metadata": {},
   "source": [
    "<span style=\"color:blue\"> Initialization is important for K-means. Consider the following heuristic method for selecting the initial cluster center positions: <br><br>\n",
    "Choose the first center $c_1$ as the point A.<br>\n",
    "For $k=2,...,K$, set $c_k = \\underset{x\\in X}{\\arg\\max}(\\underset{i=1,...,k-1}{\\min}\\Vert x - c_i \\Vert_2)$, where X is the set of data points.<br><br>\n",
    "Apply this heuristic to the data points in Fig. 1. Show the computed cluster centers for K = 3. Next, run the K-means algorithm with the obtained cluster centers. At the end of each iteration, list the positions of the cluster centers, as well as the set of points belonging to each cluster.\n",
    "</span>"
   ]
  },
  {
   "cell_type": "markdown",
   "metadata": {},
   "source": [
    "- Cluster_1 includes A,B,C and the center of cluster_1 is (-5,0)\n",
    "- Cluster_2 includes G,H,I and the center of cluster_1 is (5,0)\n",
    "- Cluster_3 includes D,E,F and the center of cluster_1 is (0,0)"
   ]
  },
  {
   "cell_type": "markdown",
   "metadata": {},
   "source": [
    "### Section 2 - Selecting the Number of Clusters (10 points)"
   ]
  },
  {
   "cell_type": "markdown",
   "metadata": {},
   "source": [
    "<span style=\"color:blue\"> Here, we will explore how to select the number of clusters. Using Python 3.6, load the attached data file 'assignment1.data' using the following commands:</span>\n",
    "    \n",
    "<span style=\"color:blue\">import joblib<br>X = joblib.load('assignment1.data')</span>\n",
    "\n",
    "<span style=\"color:blue\">This results in X, which is a 400 by 2 matrix, where each row is a single sample, in 2 dimensions. Apply K-means on these samples with K ranging from 1 to 10. Plot a figure, where the y-axis is the Within Cluster Sum of Squares (WCSS) after convergence, and the x-axis is K from 1 to 10: </span>\n",
    "\n",
    "<span style=\"color:blue\">$WCSS = \\sum_{k=1}^K \\sum_{x \\in C_i} \\Vert x - c_i \\Vert_2^2$</span>\n",
    "\n",
    "<span style=\"color:blue\">Select a value of K that you think is appropriate for clustering this dataset, and explain the reason. </span>"
   ]
  },
  {
   "cell_type": "code",
   "execution_count": 4,
   "metadata": {
    "ExecuteTime": {
     "end_time": "2020-09-24T06:07:04.575531Z",
     "start_time": "2020-09-24T06:07:04.261005Z"
    }
   },
   "outputs": [
    {
     "data": {
      "text/plain": [
       "([<matplotlib.lines.Line2D at 0x150e92c86208>],\n",
       " [1, 2, 3, 4, 5, 6, 7, 8, 9, 10],\n",
       " [22800.675548638057,\n",
       "  10437.716090329679,\n",
       "  3937.5280395580567,\n",
       "  517.8860917080183,\n",
       "  463.46247191716486,\n",
       "  414.55682439373464,\n",
       "  372.5963875002999,\n",
       "  323.82556564047775,\n",
       "  298.121337527137,\n",
       "  267.3763242355651])"
      ]
     },
     "execution_count": 4,
     "metadata": {},
     "output_type": "execute_result"
    },
    {
     "data": {
      "image/png": "[encoded data removed]",
      "text/plain": [
       "<Figure size 432x288 with 1 Axes>"
      ]
     },
     "metadata": {},
     "output_type": "display_data"
    }
   ],
   "source": [
    "x = joblib.load('assignment1.data')\n",
    "x.shape\n",
    "\n",
    "a,b=[],[]\n",
    "for k in range(1,11):\n",
    "    kmeans = KMeans(n_clusters=k, random_state=0).fit(x)\n",
    "    s=0\n",
    "    for i in range(k):\n",
    "        idx=np.arange(x.shape[0])[i==kmeans.labels_]\n",
    "        s+=np.sum((x[idx]-kmeans.cluster_centers_[i:i+1])**2)\n",
    "    a.append(k)\n",
    "    b.append(s)\n",
    "plt.plot(a,b),a,b"
   ]
  },
  {
   "cell_type": "code",
   "execution_count": 5,
   "metadata": {
    "ExecuteTime": {
     "end_time": "2020-09-24T06:07:04.978040Z",
     "start_time": "2020-09-24T06:07:04.976088Z"
    }
   },
   "outputs": [],
   "source": [
    "# This is a code cell\n",
    "# -- Your code for running clustering and plotting the figure goes here."
   ]
  },
  {
   "cell_type": "markdown",
   "metadata": {},
   "source": [
    "This is a markdown cell. Replace this cell with your answer about the value of K, and the explanation.\n",
    "- When k is less than 4, the costs are very high.\n",
    "- When k is more than 4, the costs reduce slightly since bigger k tends have less cost. The reduction of costs is not because of finding new clusters.\n",
    "- I would like to set K=4 since it has reasonable costs and enough clusters."
   ]
  },
  {
   "cell_type": "markdown",
   "metadata": {},
   "source": [
    "### Section 3 - Data Cleaning and Exploration (20 points)"
   ]
  },
  {
   "cell_type": "markdown",
   "metadata": {},
   "source": [
    "<span style=\"color:blue\"> 1) Before continuing, let us examine the dataset for “dirty” records to do some data cleaning. Remove the records with negative values of the Quantity variable, and the records with NaN values of the CustomerID variable. Report how many records were removed in total. </span>"
   ]
  },
  {
   "cell_type": "markdown",
   "metadata": {},
   "source": [
    "This is a markdown cell. Replace this cell with your answer about \"dirty\" records. \n",
    "- I removed 143985 rows"
   ]
  },
  {
   "cell_type": "code",
   "execution_count": 6,
   "metadata": {
    "ExecuteTime": {
     "end_time": "2020-09-24T06:07:06.795939Z",
     "start_time": "2020-09-24T06:07:06.314920Z"
    }
   },
   "outputs": [
    {
     "name": "stdout",
     "output_type": "stream",
     "text": [
      "10624 135080\n",
      "all removed 143985\n"
     ]
    }
   ],
   "source": [
    "df=pd.read_csv(\"record.csv\")\n",
    "df['Quantity']=df['Quantity'].astype(int)\n",
    "print(len(df[(df.Quantity<0)]),len(df[df.CustomerID.isnull()]))\n",
    "print('all removed',len(df[(df.Quantity<0) | (df.CustomerID.isnull())]))"
   ]
  },
  {
   "cell_type": "code",
   "execution_count": 7,
   "metadata": {
    "ExecuteTime": {
     "end_time": "2020-09-24T06:07:06.798991Z",
     "start_time": "2020-09-24T06:07:06.797339Z"
    }
   },
   "outputs": [],
   "source": [
    "# This is a code cell\n",
    "# -- Your code for removing dirty records goes here --"
   ]
  },
  {
   "cell_type": "markdown",
   "metadata": {},
   "source": [
    "<span style=\"color:blue\"> 2)~9) Please provide the answers to the questions listed in the table. </span>"
   ]
  },
  {
   "cell_type": "code",
   "execution_count": 9,
   "metadata": {
    "ExecuteTime": {
     "end_time": "2020-09-25T11:33:54.338519Z",
     "start_time": "2020-09-25T11:33:53.875532Z"
    }
   },
   "outputs": [
    {
     "data": {
      "text/plain": [
       "397924"
      ]
     },
     "execution_count": 9,
     "metadata": {},
     "output_type": "execute_result"
    }
   ],
   "source": [
    "df=pd.read_csv(\"record.csv\")\n",
    "df=df[(df.Quantity>=0) & (df.CustomerID.notnull())]\n",
    "len(df)"
   ]
  },
  {
   "cell_type": "code",
   "execution_count": 10,
   "metadata": {
    "ExecuteTime": {
     "end_time": "2020-09-25T11:33:54.554723Z",
     "start_time": "2020-09-25T11:33:54.340060Z"
    }
   },
   "outputs": [
    {
     "data": {
      "text/plain": [
       "'2010-12-01 08:26:00'"
      ]
     },
     "execution_count": 10,
     "metadata": {},
     "output_type": "execute_result"
    }
   ],
   "source": [
    "df.sort_values(by='InvoiceDate').iloc[0]['InvoiceDate']"
   ]
  },
  {
   "cell_type": "code",
   "execution_count": 11,
   "metadata": {
    "ExecuteTime": {
     "end_time": "2020-09-25T11:33:54.755745Z",
     "start_time": "2020-09-25T11:33:54.555917Z"
    }
   },
   "outputs": [
    {
     "data": {
      "text/plain": [
       "'2011-12-09 12:50:00'"
      ]
     },
     "execution_count": 11,
     "metadata": {},
     "output_type": "execute_result"
    }
   ],
   "source": [
    "df.sort_values(by='InvoiceDate').iloc[-1]['InvoiceDate']"
   ]
  },
  {
   "cell_type": "code",
   "execution_count": 12,
   "metadata": {
    "ExecuteTime": {
     "end_time": "2020-09-25T11:33:54.758539Z",
     "start_time": "2020-09-25T11:33:54.756998Z"
    }
   },
   "outputs": [],
   "source": [
    "#np.sort(np.unique(df['CustomerID'].values))[:40]"
   ]
  },
  {
   "cell_type": "code",
   "execution_count": 13,
   "metadata": {
    "ExecuteTime": {
     "end_time": "2020-09-25T11:33:54.780196Z",
     "start_time": "2020-09-25T11:33:54.759684Z"
    }
   },
   "outputs": [
    {
     "data": {
      "text/plain": [
       "(4339, 4339)"
      ]
     },
     "execution_count": 13,
     "metadata": {},
     "output_type": "execute_result"
    }
   ],
   "source": [
    "len(np.unique(df['CustomerID'].values)),df['CustomerID'].nunique()"
   ]
  },
  {
   "cell_type": "code",
   "execution_count": 14,
   "metadata": {
    "ExecuteTime": {
     "end_time": "2020-09-25T11:33:54.804094Z",
     "start_time": "2020-09-25T11:33:54.782007Z"
    }
   },
   "outputs": [
    {
     "data": {
      "text/plain": [
       "18536"
      ]
     },
     "execution_count": 14,
     "metadata": {},
     "output_type": "execute_result"
    }
   ],
   "source": [
    "df['InvoiceNo'].nunique()"
   ]
  },
  {
   "cell_type": "code",
   "execution_count": 15,
   "metadata": {
    "ExecuteTime": {
     "end_time": "2020-09-25T11:33:54.878725Z",
     "start_time": "2020-09-25T11:33:54.806014Z"
    }
   },
   "outputs": [
    {
     "data": {
      "text/plain": [
       "(3665, 3877)"
      ]
     },
     "execution_count": 15,
     "metadata": {},
     "output_type": "execute_result"
    }
   ],
   "source": [
    "df['StockCode'].nunique(),df['Description'].nunique()"
   ]
  },
  {
   "cell_type": "code",
   "execution_count": 16,
   "metadata": {
    "ExecuteTime": {
     "end_time": "2020-09-25T11:33:55.241007Z",
     "start_time": "2020-09-25T11:33:55.229202Z"
    }
   },
   "outputs": [
    {
     "data": {
      "text/plain": [
       "34"
      ]
     },
     "execution_count": 16,
     "metadata": {},
     "output_type": "execute_result"
    }
   ],
   "source": [
    "df[df['CustomerID']==17850]['InvoiceNo'].nunique()"
   ]
  },
  {
   "cell_type": "code",
   "execution_count": 17,
   "metadata": {
    "ExecuteTime": {
     "end_time": "2020-09-25T11:33:55.680643Z",
     "start_time": "2020-09-25T11:33:55.507974Z"
    }
   },
   "outputs": [
    {
     "data": {
      "text/plain": [
       "CustomerID\n",
       "12748.0    210\n",
       "Name: InvoiceNo, dtype: int64"
      ]
     },
     "execution_count": 17,
     "metadata": {},
     "output_type": "execute_result"
    }
   ],
   "source": [
    "c2n=df.groupby('CustomerID')['InvoiceNo'].nunique()\n",
    "c2n[c2n==c2n.max()]"
   ]
  },
  {
   "cell_type": "code",
   "execution_count": 18,
   "metadata": {
    "ExecuteTime": {
     "end_time": "2020-09-25T11:33:55.956824Z",
     "start_time": "2020-09-25T11:33:55.916590Z"
    }
   },
   "outputs": [
    {
     "data": {
      "text/plain": [
       "StockCode\n",
       "23843    80995\n",
       "Name: Quantity, dtype: int64"
      ]
     },
     "execution_count": 18,
     "metadata": {},
     "output_type": "execute_result"
    }
   ],
   "source": [
    "s2n=df.groupby('StockCode')['Quantity'].sum()\n",
    "s2n[s2n==s2n.max()]"
   ]
  },
  {
   "cell_type": "code",
   "execution_count": 19,
   "metadata": {
    "ExecuteTime": {
     "end_time": "2020-09-25T11:33:56.650850Z",
     "start_time": "2020-09-25T11:33:56.634201Z"
    }
   },
   "outputs": [
    {
     "data": {
      "text/plain": [
       "3665"
      ]
     },
     "execution_count": 19,
     "metadata": {},
     "output_type": "execute_result"
    }
   ],
   "source": [
    "df.StockCode.nunique()"
   ]
  },
  {
   "cell_type": "code",
   "execution_count": 24,
   "metadata": {
    "ExecuteTime": {
     "end_time": "2020-09-25T11:34:52.951124Z",
     "start_time": "2020-09-25T11:34:52.948289Z"
    }
   },
   "outputs": [
    {
     "data": {
      "text/plain": [
       "(80995, 36782)"
      ]
     },
     "execution_count": 24,
     "metadata": {},
     "output_type": "execute_result"
    }
   ],
   "source": [
    "s2n['23843'],s2n['85123A']"
   ]
  },
  {
   "cell_type": "code",
   "execution_count": 19,
   "metadata": {
    "ExecuteTime": {
     "end_time": "2020-09-24T06:07:09.381903Z",
     "start_time": "2020-09-24T06:07:09.380328Z"
    }
   },
   "outputs": [],
   "source": [
    "# This is a code cell\n",
    "# -- (Optional) Your code for filling in the table goes here. --"
   ]
  },
  {
   "cell_type": "markdown",
   "metadata": {},
   "source": [
    "This is a markdown cell. Please fill in your answer for (2)~(9).\n",
    "\n",
    "| No. | Question                                                                                                   | Answer       |\n",
    "|-----|------------------------------------------------------------------------------------------------------------|--------------|\n",
    "| 2)  | Starting date of the dataset?                                                                              | 2010-12-01 |\n",
    "| 3)  | Ending date of the dataset?                                                                                | 2011-12-09 |\n",
    "| 4)  | Number of customers?                                                                                       | 4339 |\n",
    "| 5)  | Number of transactions?                                                                                    | 18536 |\n",
    "| 6)  | Number of different kind of items?                                                                         | 3665 |\n",
    "| 7)  | Number of transactions customer ID 17850 has made?                                                         | 34 |\n",
    "| 8)  | Which customer (ID) has made the most transactions?                                                        | 12748 |\n",
    "| 9)  | What is the item ID (i.e. StockCode) of the best-seller? We define \"best-seller\" as the item with the highest sales volume. | 23843 |"
   ]
  },
  {
   "cell_type": "markdown",
   "metadata": {},
   "source": [
    "<span style=\"color:blue\"> 10) Next, let us get some general understanding about the transactions. Please make a histogram of the number of unique items per transaction (as described below) and describe one insight that you can observe from the plot.  \n",
    "(Note: You can plot this histogram by running matplotlib.hist() with 200 bins on the sequence of values $n_1, …, n_N$, where $n_i$ is the number of unique items in transaction $i$. This produces a histogram with “number of unique items in transaction” in the x-axis, and “count” in the y-axis, i.e. each bar counts how many transactions fall into the corresponding bucket. It is sufficient to comment on the general shape of the curve and what it implies about the data; it’s fine if the insight does not seem especially interesting.)\n",
    "</span>"
   ]
  },
  {
   "cell_type": "code",
   "execution_count": 20,
   "metadata": {
    "ExecuteTime": {
     "end_time": "2020-09-24T06:07:10.456172Z",
     "start_time": "2020-09-24T06:07:10.454070Z"
    }
   },
   "outputs": [],
   "source": [
    "# This is a code cell\n",
    "# --- Your code for generating the histogram goes here ---"
   ]
  },
  {
   "cell_type": "code",
   "execution_count": 25,
   "metadata": {
    "ExecuteTime": {
     "end_time": "2020-09-25T11:36:19.621724Z",
     "start_time": "2020-09-25T11:36:18.926966Z"
    }
   },
   "outputs": [],
   "source": [
    "df=pd.read_csv(\"record.csv\")\n",
    "df=df[(df.Quantity>=0) & (df.CustomerID.notnull())]\n",
    "i2n=df.groupby('InvoiceNo')['StockCode'].nunique()"
   ]
  },
  {
   "cell_type": "code",
   "execution_count": 26,
   "metadata": {
    "ExecuteTime": {
     "end_time": "2020-09-25T11:36:19.743022Z",
     "start_time": "2020-09-25T11:36:19.735718Z"
    }
   },
   "outputs": [
    {
     "data": {
      "text/plain": [
       "541"
      ]
     },
     "execution_count": 26,
     "metadata": {},
     "output_type": "execute_result"
    }
   ],
   "source": [
    "i2n.max()"
   ]
  },
  {
   "cell_type": "code",
   "execution_count": 29,
   "metadata": {
    "ExecuteTime": {
     "end_time": "2020-09-25T11:37:25.487117Z",
     "start_time": "2020-09-25T11:37:25.056515Z"
    }
   },
   "outputs": [
    {
     "data": {
      "text/plain": [
       "(0, 200)"
      ]
     },
     "execution_count": 29,
     "metadata": {},
     "output_type": "execute_result"
    },
    {
     "data": {
      "image/png": "[encoded data removed]",
      "text/plain": [
       "<Figure size 432x288 with 1 Axes>"
      ]
     },
     "metadata": {},
     "output_type": "display_data"
    }
   ],
   "source": [
    "plt.hist(i2n.values,bins=200)\n",
    "plt.xlim(0,200)"
   ]
  },
  {
   "cell_type": "markdown",
   "metadata": {},
   "source": [
    "This is a markdown cell. Replace this cell with your insights and reasons for (9).\n",
    "- a large number of people buy few things in one transaction.\n",
    "- less people buy lots of unique items in one transaction."
   ]
  },
  {
   "cell_type": "markdown",
   "metadata": {},
   "source": [
    "#### Section 4 - Mining Association Rules"
   ]
  },
  {
   "cell_type": "markdown",
   "metadata": {},
   "source": [
    "<span style=\"color:blue\"> 1) Will we complete the counting before the sun burns out (the sun has another $ 5 \\times 10^9 < 2^{33} $ years to burn)? </span>"
   ]
  },
  {
   "cell_type": "markdown",
   "metadata": {},
   "source": [
    "This is a markdown cell. Replace this cell with your answer and reasons for (1).\n",
    "- $2^{541} > 2^{33}*2^{36}*2^{25} > 2^{33}*2^{36}*365*24*60*60$\n",
    "- Therefore, we cannot finish the counting before the sun burns out"
   ]
  },
  {
   "cell_type": "markdown",
   "metadata": {},
   "source": [
    "<span style=\"color:blue\"> 2) Run efficient-apriori in python with min_support=0.025, min_confidence=0.2, max_length=4. Write down the number of rules found and the rule with the highest lift. </span>"
   ]
  },
  {
   "cell_type": "code",
   "execution_count": 44,
   "metadata": {
    "ExecuteTime": {
     "end_time": "2020-09-25T11:59:09.141669Z",
     "start_time": "2020-09-25T11:59:08.730560Z"
    }
   },
   "outputs": [
    {
     "data": {
      "text/html": [
       "<div>\n",
       "<style scoped>\n",
       "    .dataframe tbody tr th:only-of-type {\n",
       "        vertical-align: middle;\n",
       "    }\n",
       "\n",
       "    .dataframe tbody tr th {\n",
       "        vertical-align: top;\n",
       "    }\n",
       "\n",
       "    .dataframe thead th {\n",
       "        text-align: right;\n",
       "    }\n",
       "</style>\n",
       "<table border=\"1\" class=\"dataframe\">\n",
       "  <thead>\n",
       "    <tr style=\"text-align: right;\">\n",
       "      <th></th>\n",
       "      <th>InvoiceNo</th>\n",
       "      <th>StockCode</th>\n",
       "      <th>Description</th>\n",
       "      <th>Quantity</th>\n",
       "      <th>InvoiceDate</th>\n",
       "      <th>UnitPrice</th>\n",
       "      <th>CustomerID</th>\n",
       "    </tr>\n",
       "  </thead>\n",
       "  <tbody>\n",
       "    <tr>\n",
       "      <th>0</th>\n",
       "      <td>536365</td>\n",
       "      <td>85123A</td>\n",
       "      <td>WHITE HANGING HEART T-LIGHT HOLDER</td>\n",
       "      <td>6</td>\n",
       "      <td>2010-12-01 08:26:00</td>\n",
       "      <td>2.55</td>\n",
       "      <td>17850.0</td>\n",
       "    </tr>\n",
       "    <tr>\n",
       "      <th>1</th>\n",
       "      <td>536365</td>\n",
       "      <td>71053</td>\n",
       "      <td>WHITE METAL LANTERN</td>\n",
       "      <td>6</td>\n",
       "      <td>2010-12-01 08:26:00</td>\n",
       "      <td>3.39</td>\n",
       "      <td>17850.0</td>\n",
       "    </tr>\n",
       "    <tr>\n",
       "      <th>2</th>\n",
       "      <td>536365</td>\n",
       "      <td>84406B</td>\n",
       "      <td>CREAM CUPID HEARTS COAT HANGER</td>\n",
       "      <td>8</td>\n",
       "      <td>2010-12-01 08:26:00</td>\n",
       "      <td>2.75</td>\n",
       "      <td>17850.0</td>\n",
       "    </tr>\n",
       "    <tr>\n",
       "      <th>3</th>\n",
       "      <td>536365</td>\n",
       "      <td>84029G</td>\n",
       "      <td>KNITTED UNION FLAG HOT WATER BOTTLE</td>\n",
       "      <td>6</td>\n",
       "      <td>2010-12-01 08:26:00</td>\n",
       "      <td>3.39</td>\n",
       "      <td>17850.0</td>\n",
       "    </tr>\n",
       "    <tr>\n",
       "      <th>4</th>\n",
       "      <td>536365</td>\n",
       "      <td>84029E</td>\n",
       "      <td>RED WOOLLY HOTTIE WHITE HEART.</td>\n",
       "      <td>6</td>\n",
       "      <td>2010-12-01 08:26:00</td>\n",
       "      <td>3.39</td>\n",
       "      <td>17850.0</td>\n",
       "    </tr>\n",
       "  </tbody>\n",
       "</table>\n",
       "</div>"
      ],
      "text/plain": [
       "  InvoiceNo StockCode                          Description  Quantity  \\\n",
       "0    536365    85123A   WHITE HANGING HEART T-LIGHT HOLDER         6   \n",
       "1    536365     71053                  WHITE METAL LANTERN         6   \n",
       "2    536365    84406B       CREAM CUPID HEARTS COAT HANGER         8   \n",
       "3    536365    84029G  KNITTED UNION FLAG HOT WATER BOTTLE         6   \n",
       "4    536365    84029E       RED WOOLLY HOTTIE WHITE HEART.         6   \n",
       "\n",
       "           InvoiceDate  UnitPrice  CustomerID  \n",
       "0  2010-12-01 08:26:00       2.55     17850.0  \n",
       "1  2010-12-01 08:26:00       3.39     17850.0  \n",
       "2  2010-12-01 08:26:00       2.75     17850.0  \n",
       "3  2010-12-01 08:26:00       3.39     17850.0  \n",
       "4  2010-12-01 08:26:00       3.39     17850.0  "
      ]
     },
     "execution_count": 44,
     "metadata": {},
     "output_type": "execute_result"
    }
   ],
   "source": [
    "df=pd.read_csv(\"record.csv\")\n",
    "df=df[(df.Quantity>=0) & (df.CustomerID.notnull())]\n",
    "df.head()"
   ]
  },
  {
   "cell_type": "code",
   "execution_count": 45,
   "metadata": {
    "ExecuteTime": {
     "end_time": "2020-09-25T11:59:17.223173Z",
     "start_time": "2020-09-25T11:59:09.574060Z"
    }
   },
   "outputs": [],
   "source": [
    "def f(row):return [row[\"StockCode\"]]\n",
    "df[\"StockCode\"] = df.apply(f, axis=1)\n",
    "transactionsInit=df.groupby([\"InvoiceNo\"])['StockCode'].sum().values.tolist()"
   ]
  },
  {
   "cell_type": "code",
   "execution_count": 46,
   "metadata": {
    "ExecuteTime": {
     "end_time": "2020-09-25T11:59:17.260137Z",
     "start_time": "2020-09-25T11:59:17.224390Z"
    }
   },
   "outputs": [],
   "source": [
    "transactions=[]\n",
    "for i in transactionsInit:transactions.append(list(set(i)))"
   ]
  },
  {
   "cell_type": "code",
   "execution_count": 49,
   "metadata": {
    "ExecuteTime": {
     "end_time": "2020-09-25T12:02:47.888900Z",
     "start_time": "2020-09-25T12:02:30.544009Z"
    }
   },
   "outputs": [
    {
     "name": "stdout",
     "output_type": "stream",
     "text": [
      "number of rules 22\n",
      "highest lift {22699} -> {22697} (conf: 0.691, supp: 0.029, lift: 18.534, conv: 3.115)\n"
     ]
    }
   ],
   "source": [
    "itemsets, rules = apriori(transactions, min_support=0.025,  min_confidence=0.2,max_length=4)\n",
    "rules=sorted(rules,key=lambda rule:rule.lift,reverse=True)\n",
    "print('number of rules',len(rules))\n",
    "print(\"highest lift\",rules[0])"
   ]
  },
  {
   "cell_type": "markdown",
   "metadata": {},
   "source": [
    "- the number of rules found:22\n",
    "- the rule with the highest lift {22699} -> {22697} (conf: 0.691, supp: 0.029, lift: 18.534, conv: 3.115)"
   ]
  },
  {
   "cell_type": "markdown",
   "metadata": {},
   "source": [
    "<span style=\"color:blue\"> 3) Run efficient-apriori in python with min_support=0.02, min_confidence=0.2, max_length=4. Write down the number of rules found and the rule with the highest lift. </span>"
   ]
  },
  {
   "cell_type": "code",
   "execution_count": 52,
   "metadata": {
    "ExecuteTime": {
     "end_time": "2020-09-25T12:06:09.825619Z",
     "start_time": "2020-09-25T12:05:03.494375Z"
    }
   },
   "outputs": [
    {
     "name": "stdout",
     "output_type": "stream",
     "text": [
      "number of rules 88\n",
      "highest lift {22697, 22699} -> {22698} (conf: 0.721, supp: 0.021, lift: 24.033, conv: 3.475)\n"
     ]
    }
   ],
   "source": [
    "min_support,min_confidence=0.02,0.2\n",
    "itemsets, rules = apriori(transactions, min_support=0.02,  min_confidence=0.2,max_length=4)\n",
    "rules=sorted(rules,key=lambda rule:rule.lift,reverse=True)\n",
    "print('number of rules',len(rules))\n",
    "print(\"highest lift\",rules[0])"
   ]
  },
  {
   "cell_type": "markdown",
   "metadata": {},
   "source": [
    "- the number of rules found:88\n",
    "- the rule with the highest lift:{22697, 22699} -> {22698} (conf: 0.721, supp: 0.021, lift: 24.033, conv: 3.475)"
   ]
  },
  {
   "cell_type": "markdown",
   "metadata": {},
   "source": [
    "<span style=\"color:blue\"> 4) Run efficient-apriori in python with min_support=0.025, min_confidence=0.4, max_length=4. Write down the number of rules found and the rule with the highest lift. </span>"
   ]
  },
  {
   "cell_type": "code",
   "execution_count": 53,
   "metadata": {
    "ExecuteTime": {
     "end_time": "2020-09-25T12:06:37.682203Z",
     "start_time": "2020-09-25T12:06:09.827632Z"
    }
   },
   "outputs": [
    {
     "name": "stdout",
     "output_type": "stream",
     "text": [
      "number of rules 19\n",
      "highest lift {22699} -> {22697} (conf: 0.691, supp: 0.029, lift: 18.534, conv: 3.115)\n"
     ]
    }
   ],
   "source": [
    "itemsets, rules = apriori(transactions, min_support=0.025,  min_confidence=0.4,max_length=4)\n",
    "rules=sorted(rules,key=lambda rule:rule.lift,reverse=True)\n",
    "print('number of rules',len(rules))\n",
    "print(\"highest lift\",rules[0])"
   ]
  },
  {
   "cell_type": "markdown",
   "metadata": {},
   "source": [
    "- the number of rules found:19\n",
    "- the rule with the highest lift:{22699} -> {22697} (conf: 0.691, supp: 0.029, lift: 18.534, conv: 3.115)"
   ]
  },
  {
   "cell_type": "markdown",
   "metadata": {},
   "source": [
    "<span style=\"color:blue\"> 5) Compare the first two cases. How do they differ in the time taken for the algorithm to run, the number of rules found, and the lift of the highest lift rule? Briefly explain why each of these findings occur, based on the effects of changing min_support.  </span>"
   ]
  },
  {
   "cell_type": "markdown",
   "metadata": {},
   "source": [
    "# case 1 vs case 2\n",
    "- time difference: 19s:41.3s\n",
    "    - Because the min_support in the case 2 is less than case one, less itemsets are generated in the Frequent Itemset Generation phase in the case 1. \n",
    "    - Rule Generation phase is very fast since the algorithm can use information provided in the phase one. There are no much differences in Rule Generation phase.\n",
    "- the number of rules: 22:88\n",
    "    - There are more candidate itemsets for Rule Generation phase and the same limitation for the Rule Generation phase, therefore, we have more rules generated.\n",
    "- the lift of the highest lift rule: {22699} -> {22697}:18.534 vs {22697, 22699} -> {22698}:24.033\n",
    "    - If we set smaller min_support, we will have more frequent itemsets. If we have itemsets with samller support, we have chance to get bigger lift. \n",
    "    - $supp(A\\cup B) \\div (supp(A) \\times supp(B)) = (n(A\\cup B) \\times n(all)) \\div (n(A) \\times n(B))$. If we let $n(A)=n(B)=n(A\\cup B)$, the lift value$=n(all) \\div n(A)= 1 \\div supp(A)$, which means less $n(A)$ have larger lift values."
   ]
  },
  {
   "cell_type": "markdown",
   "metadata": {},
   "source": [
    "<span style=\"color:blue\"> 6) Compare the first and third case. How do they differ in the number of rules found? Briefly explain why this finding occurs, based on the effects of changing min_confidence. </span>"
   ]
  },
  {
   "cell_type": "markdown",
   "metadata": {},
   "source": [
    "# case 1 vs case 3\n",
    "- the number of rules: 22:19\n",
    "    - There are the same candidate itemsets generated in Frequent Itemset Generation phase. However, the limitation for min_confidence is different. The larger min_confidence generate less rules.   "
   ]
  },
  {
   "cell_type": "markdown",
   "metadata": {},
   "source": [
    "<span style=\"color:blue\"> 7) Report the descriptions of the items associated with the highest lift rule you found in the three queries (you may use any method to do this). Does the rule make sense? </span>"
   ]
  },
  {
   "cell_type": "code",
   "execution_count": 54,
   "metadata": {
    "ExecuteTime": {
     "end_time": "2020-09-25T12:28:39.602303Z",
     "start_time": "2020-09-25T12:28:38.848920Z"
    }
   },
   "outputs": [
    {
     "name": "stdout",
     "output_type": "stream",
     "text": [
      "ROSES REGENCY TEACUP AND SAUCER   GREEN REGENCY TEACUP AND SAUCER\n"
     ]
    }
   ],
   "source": [
    "df=pd.read_csv(\"record.csv\")\n",
    "df=df[(df.Quantity>=0) & (df.CustomerID.notnull())]\n",
    "print(df[df.StockCode=='22699']['Description'].iloc[0],'',df[df.StockCode=='22697']['Description'].iloc[0])"
   ]
  },
  {
   "cell_type": "code",
   "execution_count": 55,
   "metadata": {
    "ExecuteTime": {
     "end_time": "2020-09-25T12:29:29.873334Z",
     "start_time": "2020-09-25T12:29:29.776900Z"
    }
   },
   "outputs": [
    {
     "name": "stdout",
     "output_type": "stream",
     "text": [
      "GREEN REGENCY TEACUP AND SAUCER ROSES REGENCY TEACUP AND SAUCER  PINK REGENCY TEACUP AND SAUCER\n"
     ]
    }
   ],
   "source": [
    "print(df[df.StockCode=='22697']['Description'].iloc[0],\n",
    "      df[df.StockCode=='22699']['Description'].iloc[0],\n",
    "      df[df.StockCode=='22698']['Description'].iloc[0])"
   ]
  },
  {
   "cell_type": "code",
   "execution_count": 56,
   "metadata": {
    "ExecuteTime": {
     "end_time": "2020-09-25T12:30:03.956705Z",
     "start_time": "2020-09-25T12:30:03.867892Z"
    }
   },
   "outputs": [
    {
     "name": "stdout",
     "output_type": "stream",
     "text": [
      "ROSES REGENCY TEACUP AND SAUCER  GREEN REGENCY TEACUP AND SAUCER\n"
     ]
    }
   ],
   "source": [
    "print(df[df.StockCode=='22699']['Description'].iloc[0],\n",
    "      df[df.StockCode=='22697']['Description'].iloc[0])"
   ]
  },
  {
   "cell_type": "markdown",
   "metadata": {},
   "source": [
    "- case 1: ROSES REGENCY TEACUP AND SAUCER, GREEN REGENCY TEACUP AND SAUCER\n",
    "- case 2: GREEN REGENCY TEACUP AND SAUCER, ROSES REGENCY TEACUP AND SAUCER,PINK REGENCY TEACUP AND SAUCER\n",
    "- case 3: ROSES REGENCY TEACUP AND SAUCER, GREEN REGENCY TEACUP AND SAUCER\n",
    "- Yes, make sense. Customers perfer to buy TEACUP with two or three different colors together."
   ]
  }
 ],
 "metadata": {
  "kernelspec": {
   "display_name": "Python 3",
   "language": "python",
   "name": "python3"
  },
  "language_info": {
   "codemirror_mode": {
    "name": "ipython",
    "version": 3
   },
   "file_extension": ".py",
   "mimetype": "text/x-python",
   "name": "python",
   "nbconvert_exporter": "python",
   "pygments_lexer": "ipython3",
   "version": "3.6.10"
  }
 },
 "nbformat": 4,
 "nbformat_minor": 2
}
