{
 "cells": [
  {
   "cell_type": "markdown",
   "metadata": {},
   "source": [
    "#### Assignment 1  - Shicheng Chen (E0534721)\n",
    "This answer sheet contains your answer to questions in Section 1~4. Sentences in <span style=\"color:blue\">blue</span> indicates questions to be answered. \n",
    "\n",
    "For open questions, please organize your answer into \"points\" to ease our grading efforts. For example, an answer to \"What is the most popular item? Explain you answer and describe any assumptions you’ve made.\" should look like:\n",
    "\n",
    "> The most popular item ID is 12345. The reason is that:\n",
    "> - reason 1\n",
    "> - reason 2\n",
    "> \n",
    "> I've made the following assumptions:\n",
    "> - assumption 1\n",
    "> - assumption 2\n",
    "\n",
    "If you wish to type math equations in markdown, follow this link: https://jupyter-notebook.readthedocs.io/en/stable/examples/Notebook/Working%20With%20Markdown%20Cells.html#LaTeX-equations\n",
    "\n",
    "Remember to save this Jupyter notebook as __YourNameInLumiNUS_YourNUSNETID.ipynb__."
   ]
  },
  {
   "cell_type": "markdown",
   "metadata": {},
   "source": [
    "**Import all libraries and load data here**"
   ]
  },
  {
   "cell_type": "code",
   "execution_count": 14,
   "metadata": {
    "ExecuteTime": {
     "end_time": "2020-10-02T13:39:04.723844Z",
     "start_time": "2020-10-02T13:39:04.721126Z"
    }
   },
   "outputs": [],
   "source": [
    "# This is a code cell\n",
    "# -- Import all libraries and load data in this cell --\n",
    "from sklearn.cluster import KMeans\n",
    "import numpy as np\n",
    "import joblib\n",
    "import matplotlib.pyplot as plt\n",
    "import pandas as pd\n",
    "import tqdm,itertools\n",
    "from itertools import permutations\n",
    "from efficient_apriori import apriori"
   ]
  },
  {
   "cell_type": "code",
   "execution_count": 15,
   "metadata": {
    "ExecuteTime": {
     "end_time": "2020-10-02T13:39:04.884014Z",
     "start_time": "2020-10-02T13:39:04.872673Z"
    }
   },
   "outputs": [
    {
     "name": "stderr",
     "output_type": "stream",
     "text": [
      "/home/csc/anaconda3/lib/python3.6/site-packages/sklearn/cluster/k_means_.py:896: RuntimeWarning: Explicit initial center position passed: performing only one init in k-means instead of n_init=10\n",
      "  return_n_iter=True)\n"
     ]
    },
    {
     "data": {
      "text/plain": [
       "(array([0, 0, 0, 1, 1, 1, 2, 2, 2], dtype=int32), array([[ 0.,  1.],\n",
       "        [ 0.,  0.],\n",
       "        [ 0., -1.]]))"
      ]
     },
     "execution_count": 15,
     "metadata": {},
     "output_type": "execute_result"
    }
   ],
   "source": [
    "X = np.array([[-5, 1], [0, 1], [5, 1],[-5, 0], [0, 0], [5, 0],[-5, -1], [0, -1], [5, -1]])\n",
    "kmeans = KMeans(n_clusters=3, init=np.array([[0,1],[0,0],[0,-1]])).fit(X)\n",
    "kmeans.labels_,kmeans.cluster_centers_"
   ]
  },
  {
   "cell_type": "code",
   "execution_count": 18,
   "metadata": {
    "ExecuteTime": {
     "end_time": "2020-10-02T13:39:12.207498Z",
     "start_time": "2020-10-02T13:39:12.203454Z"
    }
   },
   "outputs": [],
   "source": [
    "#KMeans?"
   ]
  },
  {
   "cell_type": "code",
   "execution_count": 19,
   "metadata": {
    "ExecuteTime": {
     "end_time": "2020-10-02T13:39:12.360207Z",
     "start_time": "2020-10-02T13:39:12.346265Z"
    }
   },
   "outputs": [
    {
     "data": {
      "text/plain": [
       "(array([0, 2, 1, 0, 2, 1, 0, 2, 1], dtype=int32), array([[-5.,  0.],\n",
       "        [ 5.,  0.],\n",
       "        [ 0.,  0.]]))"
      ]
     },
     "execution_count": 19,
     "metadata": {},
     "output_type": "execute_result"
    }
   ],
   "source": [
    "X = np.array([[-5, 1], [0, 1], [5, 1],[-5, 0], [0, 0], [5, 0],[-5, -1], [0, -1], [5, -1]])\n",
    "kmeans = KMeans(n_clusters=3, init=np.array([[-5,1],[5,-1],[0,0]]),n_init=1,max_iter=2).fit(X)\n",
    "kmeans.labels_,kmeans.cluster_centers_"
   ]
  },
  {
   "cell_type": "markdown",
   "metadata": {},
   "source": [
    "### Section 1 - Clustering and Initialization (20 points)"
   ]
  },
  {
   "cell_type": "markdown",
   "metadata": {},
   "source": [
    "<span style=\"color:blue\"> Consider the nine data points (A, B, C, D, E, F, G, H, I) in Fig. 1. Taking the points D, E, and F as the initial cluster centers, apply the K-Means algorithm on the data, with the number of clusters K = 3. At the end of each iteration, list the positions of the cluster centers, as well as the set of points belonging to each cluster. Do you think this clustering result is satisfactory? </span>"
   ]
  },
  {
   "cell_type": "markdown",
   "metadata": {},
   "source": [
    "- Cluster_1 includes A,D,G and the center of cluster_1 is (0,1)\n",
    "- Cluster_2 includes B,E,H and the center of cluster_1 is (0,0)\n",
    "- Cluster_3 includes C,F,I and the center of cluster_1 is (0,-1)\n",
    "\n",
    "- I am not satisfied with the results. I perfer that points A,B,C, points D,E,F, and points G,H,I belong to the first, second and third cluster respectively."
   ]
  },
  {
   "cell_type": "markdown",
   "metadata": {},
   "source": [
    "<span style=\"color:blue\"> Initialization is important for K-means. Consider the following heuristic method for selecting the initial cluster center positions: <br><br>\n",
    "Choose the first center $c_1$ as the point A.<br>\n",
    "For $k=2,...,K$, set $c_k = \\underset{x\\in X}{\\arg\\max}(\\underset{i=1,...,k-1}{\\min}\\Vert x - c_i \\Vert_2)$, where X is the set of data points.<br><br>\n",
    "Apply this heuristic to the data points in Fig. 1. Show the computed cluster centers for K = 3. Next, run the K-means algorithm with the obtained cluster centers. At the end of each iteration, list the positions of the cluster centers, as well as the set of points belonging to each cluster.\n",
    "</span>"
   ]
  },
  {
   "cell_type": "markdown",
   "metadata": {},
   "source": [
    "- init:\n",
    "    - Cluster_1 includes A,B,C and the center of cluster_1 is (-5,1)\n",
    "    - Cluster_2 includes G,H,I and the center of cluster_1 is (5,-1)\n",
    "    - Cluster_3 includes D,E,F and the center of cluster_1 is (0,0)\n",
    "- iteration>=1:\n",
    "    - Cluster_1 includes A,B,C and the center of cluster_1 is (-5,0)\n",
    "    - Cluster_2 includes G,H,I and the center of cluster_1 is (5,0)\n",
    "    - Cluster_3 includes D,E,F and the center of cluster_1 is (0,0)"
   ]
  },
  {
   "cell_type": "markdown",
   "metadata": {},
   "source": [
    "### Section 2 - Selecting the Number of Clusters (10 points)"
   ]
  },
  {
   "cell_type": "markdown",
   "metadata": {},
   "source": [
    "<span style=\"color:blue\"> Here, we will explore how to select the number of clusters. Using Python 3.6, load the attached data file 'assignment1.data' using the following commands:</span>\n",
    "    \n",
    "<span style=\"color:blue\">import joblib<br>X = joblib.load('assignment1.data')</span>\n",
    "\n",
    "<span style=\"color:blue\">This results in X, which is a 400 by 2 matrix, where each row is a single sample, in 2 dimensions. Apply K-means on these samples with K ranging from 1 to 10. Plot a figure, where the y-axis is the Within Cluster Sum of Squares (WCSS) after convergence, and the x-axis is K from 1 to 10: </span>\n",
    "\n",
    "<span style=\"color:blue\">$WCSS = \\sum_{k=1}^K \\sum_{x \\in C_i} \\Vert x - c_i \\Vert_2^2$</span>\n",
    "\n",
    "<span style=\"color:blue\">Select a value of K that you think is appropriate for clustering this dataset, and explain the reason. </span>"
   ]
  },
  {
   "cell_type": "code",
   "execution_count": 20,
   "metadata": {
    "ExecuteTime": {
     "end_time": "2020-10-02T13:39:13.805163Z",
     "start_time": "2020-10-02T13:39:13.450430Z"
    }
   },
   "outputs": [
    {
     "data": {
      "text/plain": [
       "([<matplotlib.lines.Line2D at 0x14c8c158f208>],\n",
       " [1, 2, 3, 4, 5, 6, 7, 8, 9, 10],\n",
       " [22800.675548638057,\n",
       "  10437.716090329679,\n",
       "  3937.5280395580567,\n",
       "  517.8860917080183,\n",
       "  463.46247191716486,\n",
       "  414.55682439373464,\n",
       "  372.5963875002999,\n",
       "  323.82556564047775,\n",
       "  298.121337527137,\n",
       "  267.3763242355651])"
      ]
     },
     "execution_count": 20,
     "metadata": {},
     "output_type": "execute_result"
    },
    {
     "data": {
      "image/png": "[encoded data removed]",
      "text/plain": [
       "<Figure size 432x288 with 1 Axes>"
      ]
     },
     "metadata": {},
     "output_type": "display_data"
    }
   ],
   "source": [
    "x = joblib.load('assignment1.data')\n",
    "x.shape\n",
    "\n",
    "a,b=[],[]\n",
    "for k in range(1,11):\n",
    "    kmeans = KMeans(n_clusters=k, random_state=0).fit(x)\n",
    "    s=0\n",
    "    for i in range(k):\n",
    "        idx=np.arange(x.shape[0])[i==kmeans.labels_]\n",
    "        s+=np.sum((x[idx]-kmeans.cluster_centers_[i:i+1])**2)\n",
    "    a.append(k)\n",
    "    b.append(s)\n",
    "plt.plot(a,b),a,b"
   ]
  },
  {
   "cell_type": "code",
   "execution_count": 21,
   "metadata": {
    "ExecuteTime": {
     "end_time": "2020-10-02T13:39:13.807797Z",
     "start_time": "2020-10-02T13:39:13.806355Z"
    }
   },
   "outputs": [],
   "source": [
    "# This is a code cell\n",
    "# -- Your code for running clustering and plotting the figure goes here."
   ]
  },
  {
   "cell_type": "markdown",
   "metadata": {},
   "source": [
    "This is a markdown cell. Replace this cell with your answer about the value of K, and the explanation.\n",
    "- When k is less than 4, the costs are very high.\n",
    "- When k is more than 4, the costs reduce slightly since bigger k tends have less cost. The reduction of costs is not because of finding new clusters.\n",
    "- I would like to set K=4 since it has reasonable costs and enough clusters."
   ]
  },
  {
   "cell_type": "markdown",
   "metadata": {},
   "source": [
    "### Section 3 - Data Cleaning and Exploration (20 points)"
   ]
  },
  {
   "cell_type": "markdown",
   "metadata": {},
   "source": [
    "<span style=\"color:blue\"> 1) Before continuing, let us examine the dataset for “dirty” records to do some data cleaning. Remove the records with negative values of the Quantity variable, and the records with NaN values of the CustomerID variable. Report how many records were removed in total. </span>"
   ]
  },
  {
   "cell_type": "markdown",
   "metadata": {},
   "source": [
    "This is a markdown cell. Replace this cell with your answer about \"dirty\" records. \n",
    "- I removed 143985 rows"
   ]
  },
  {
   "cell_type": "code",
   "execution_count": 22,
   "metadata": {
    "ExecuteTime": {
     "end_time": "2020-10-02T13:39:14.901328Z",
     "start_time": "2020-10-02T13:39:14.379113Z"
    }
   },
   "outputs": [
    {
     "name": "stdout",
     "output_type": "stream",
     "text": [
      "10624 135080\n",
      "all removed 143985\n"
     ]
    }
   ],
   "source": [
    "df=pd.read_csv(\"record.csv\")\n",
    "df['Quantity']=df['Quantity'].astype(int)\n",
    "print(len(df[(df.Quantity<0)]),len(df[df.CustomerID.isnull()]))\n",
    "print('all removed',len(df[(df.Quantity<0) | (df.CustomerID.isnull())]))"
   ]
  },
  {
   "cell_type": "code",
   "execution_count": 23,
   "metadata": {
    "ExecuteTime": {
     "end_time": "2020-10-02T13:39:14.903912Z",
     "start_time": "2020-10-02T13:39:14.902433Z"
    }
   },
   "outputs": [],
   "source": [
    "# This is a code cell\n",
    "# -- Your code for removing dirty records goes here --"
   ]
  },
  {
   "cell_type": "markdown",
   "metadata": {},
   "source": [
    "<span style=\"color:blue\"> 2)~9) Please provide the answers to the questions listed in the table. </span>"
   ]
  },
  {
   "cell_type": "code",
   "execution_count": 24,
   "metadata": {
    "ExecuteTime": {
     "end_time": "2020-10-02T13:39:15.519129Z",
     "start_time": "2020-10-02T13:39:14.905078Z"
    }
   },
   "outputs": [
    {
     "data": {
      "text/plain": [
       "397924"
      ]
     },
     "execution_count": 24,
     "metadata": {},
     "output_type": "execute_result"
    }
   ],
   "source": [
    "df=pd.read_csv(\"record.csv\")\n",
    "df=df[(df.Quantity>=0) & (df.CustomerID.notnull())]\n",
    "len(df)"
   ]
  },
  {
   "cell_type": "code",
   "execution_count": 25,
   "metadata": {
    "ExecuteTime": {
     "end_time": "2020-10-02T13:39:15.739535Z",
     "start_time": "2020-10-02T13:39:15.520667Z"
    }
   },
   "outputs": [
    {
     "data": {
      "text/plain": [
       "'2010-12-01 08:26:00'"
      ]
     },
     "execution_count": 25,
     "metadata": {},
     "output_type": "execute_result"
    }
   ],
   "source": [
    "df.sort_values(by='InvoiceDate').iloc[0]['InvoiceDate']"
   ]
  },
  {
   "cell_type": "code",
   "execution_count": 26,
   "metadata": {
    "ExecuteTime": {
     "end_time": "2020-10-02T13:39:15.987055Z",
     "start_time": "2020-10-02T13:39:15.740894Z"
    }
   },
   "outputs": [
    {
     "data": {
      "text/plain": [
       "'2011-12-09 12:50:00'"
      ]
     },
     "execution_count": 26,
     "metadata": {},
     "output_type": "execute_result"
    }
   ],
   "source": [
    "df.sort_values(by='InvoiceDate').iloc[-1]['InvoiceDate']"
   ]
  },
  {
   "cell_type": "code",
   "execution_count": 27,
   "metadata": {
    "ExecuteTime": {
     "end_time": "2020-10-02T13:39:15.991789Z",
     "start_time": "2020-10-02T13:39:15.990180Z"
    }
   },
   "outputs": [],
   "source": [
    "#np.sort(np.unique(df['CustomerID'].values))[:40]"
   ]
  },
  {
   "cell_type": "code",
   "execution_count": 28,
   "metadata": {
    "ExecuteTime": {
     "end_time": "2020-10-02T13:39:16.010578Z",
     "start_time": "2020-10-02T13:39:15.993039Z"
    }
   },
   "outputs": [
    {
     "data": {
      "text/plain": [
       "(4339, 4339)"
      ]
     },
     "execution_count": 28,
     "metadata": {},
     "output_type": "execute_result"
    }
   ],
   "source": [
    "len(np.unique(df['CustomerID'].values)),df['CustomerID'].nunique()"
   ]
  },
  {
   "cell_type": "code",
   "execution_count": 29,
   "metadata": {
    "ExecuteTime": {
     "end_time": "2020-10-02T13:39:16.032772Z",
     "start_time": "2020-10-02T13:39:16.011831Z"
    }
   },
   "outputs": [
    {
     "data": {
      "text/plain": [
       "18536"
      ]
     },
     "execution_count": 29,
     "metadata": {},
     "output_type": "execute_result"
    }
   ],
   "source": [
    "df['InvoiceNo'].nunique()"
   ]
  },
  {
   "cell_type": "code",
   "execution_count": 30,
   "metadata": {
    "ExecuteTime": {
     "end_time": "2020-10-02T13:39:16.083009Z",
     "start_time": "2020-10-02T13:39:16.033927Z"
    }
   },
   "outputs": [
    {
     "data": {
      "text/plain": [
       "(3665, 3877)"
      ]
     },
     "execution_count": 30,
     "metadata": {},
     "output_type": "execute_result"
    }
   ],
   "source": [
    "df['StockCode'].nunique(),df['Description'].nunique()"
   ]
  },
  {
   "cell_type": "code",
   "execution_count": 31,
   "metadata": {
    "ExecuteTime": {
     "end_time": "2020-10-02T13:39:16.097068Z",
     "start_time": "2020-10-02T13:39:16.085335Z"
    }
   },
   "outputs": [
    {
     "data": {
      "text/plain": [
       "34"
      ]
     },
     "execution_count": 31,
     "metadata": {},
     "output_type": "execute_result"
    }
   ],
   "source": [
    "df[df['CustomerID']==17850]['InvoiceNo'].nunique()"
   ]
  },
  {
   "cell_type": "code",
   "execution_count": 32,
   "metadata": {
    "ExecuteTime": {
     "end_time": "2020-10-02T13:39:17.283815Z",
     "start_time": "2020-10-02T13:39:17.134207Z"
    }
   },
   "outputs": [
    {
     "data": {
      "text/plain": [
       "CustomerID\n",
       "12748.0    210\n",
       "Name: InvoiceNo, dtype: int64"
      ]
     },
     "execution_count": 32,
     "metadata": {},
     "output_type": "execute_result"
    }
   ],
   "source": [
    "c2n=df.groupby('CustomerID')['InvoiceNo'].nunique()\n",
    "c2n[c2n==c2n.max()]"
   ]
  },
  {
   "cell_type": "code",
   "execution_count": 33,
   "metadata": {
    "ExecuteTime": {
     "end_time": "2020-10-02T13:39:17.317152Z",
     "start_time": "2020-10-02T13:39:17.285098Z"
    }
   },
   "outputs": [
    {
     "data": {
      "text/plain": [
       "StockCode\n",
       "23843    80995\n",
       "Name: Quantity, dtype: int64"
      ]
     },
     "execution_count": 33,
     "metadata": {},
     "output_type": "execute_result"
    }
   ],
   "source": [
    "s2n=df.groupby('StockCode')['Quantity'].sum()\n",
    "s2n[s2n==s2n.max()]"
   ]
  },
  {
   "cell_type": "code",
   "execution_count": 34,
   "metadata": {
    "ExecuteTime": {
     "end_time": "2020-10-02T13:39:17.465684Z",
     "start_time": "2020-10-02T13:39:17.440578Z"
    }
   },
   "outputs": [
    {
     "data": {
      "text/plain": [
       "3665"
      ]
     },
     "execution_count": 34,
     "metadata": {},
     "output_type": "execute_result"
    }
   ],
   "source": [
    "df.StockCode.nunique()"
   ]
  },
  {
   "cell_type": "code",
   "execution_count": 35,
   "metadata": {
    "ExecuteTime": {
     "end_time": "2020-10-02T13:39:17.586297Z",
     "start_time": "2020-10-02T13:39:17.583858Z"
    }
   },
   "outputs": [
    {
     "data": {
      "text/plain": [
       "(80995, 36782)"
      ]
     },
     "execution_count": 35,
     "metadata": {},
     "output_type": "execute_result"
    }
   ],
   "source": [
    "s2n['23843'],s2n['85123A']"
   ]
  },
  {
   "cell_type": "code",
   "execution_count": 36,
   "metadata": {
    "ExecuteTime": {
     "end_time": "2020-10-02T13:39:17.737300Z",
     "start_time": "2020-10-02T13:39:17.735119Z"
    }
   },
   "outputs": [],
   "source": [
    "# This is a code cell\n",
    "# -- (Optional) Your code for filling in the table goes here. --"
   ]
  },
  {
   "cell_type": "markdown",
   "metadata": {},
   "source": [
    "This is a markdown cell. Please fill in your answer for (2)~(9).\n",
    "\n",
    "| No. | Question                                                                                                   | Answer       |\n",
    "|-----|------------------------------------------------------------------------------------------------------------|--------------|\n",
    "| 2)  | Starting date of the dataset?                                                                              | 2010-12-01 |\n",
    "| 3)  | Ending date of the dataset?                                                                                | 2011-12-09 |\n",
    "| 4)  | Number of customers?                                                                                       | 4339 |\n",
    "| 5)  | Number of transactions?                                                                                    | 18536 |\n",
    "| 6)  | Number of different kind of items?                                                                         | 3665 |\n",
    "| 7)  | Number of transactions customer ID 17850 has made?                                                         | 34 |\n",
    "| 8)  | Which customer (ID) has made the most transactions?                                                        | 12748 |\n",
    "| 9)  | What is the item ID (i.e. StockCode) of the best-seller? We define \"best-seller\" as the item with the highest sales volume. | 23843 |"
   ]
  },
  {
   "cell_type": "markdown",
   "metadata": {},
   "source": [
    "<span style=\"color:blue\"> 10) Next, let us get some general understanding about the transactions. Please make a histogram of the number of unique items per transaction (as described below) and describe one insight that you can observe from the plot.  \n",
    "(Note: You can plot this histogram by running matplotlib.hist() with 200 bins on the sequence of values $n_1, …, n_N$, where $n_i$ is the number of unique items in transaction $i$. This produces a histogram with “number of unique items in transaction” in the x-axis, and “count” in the y-axis, i.e. each bar counts how many transactions fall into the corresponding bucket. It is sufficient to comment on the general shape of the curve and what it implies about the data; it’s fine if the insight does not seem especially interesting.)\n",
    "</span>"
   ]
  },
  {
   "cell_type": "code",
   "execution_count": 37,
   "metadata": {
    "ExecuteTime": {
     "end_time": "2020-10-02T13:39:18.566382Z",
     "start_time": "2020-10-02T13:39:18.561225Z"
    }
   },
   "outputs": [],
   "source": [
    "# This is a code cell\n",
    "# --- Your code for generating the histogram goes here ---"
   ]
  },
  {
   "cell_type": "code",
   "execution_count": 38,
   "metadata": {
    "ExecuteTime": {
     "end_time": "2020-10-02T13:39:19.631048Z",
     "start_time": "2020-10-02T13:39:18.860470Z"
    }
   },
   "outputs": [],
   "source": [
    "df=pd.read_csv(\"record.csv\")\n",
    "df=df[(df.Quantity>=0) & (df.CustomerID.notnull())]\n",
    "i2n=df.groupby('InvoiceNo')['StockCode'].nunique()"
   ]
  },
  {
   "cell_type": "code",
   "execution_count": 39,
   "metadata": {
    "ExecuteTime": {
     "end_time": "2020-10-02T13:39:19.634999Z",
     "start_time": "2020-10-02T13:39:19.632273Z"
    }
   },
   "outputs": [
    {
     "data": {
      "text/plain": [
       "541"
      ]
     },
     "execution_count": 39,
     "metadata": {},
     "output_type": "execute_result"
    }
   ],
   "source": [
    "i2n.max()"
   ]
  },
  {
   "cell_type": "code",
   "execution_count": 40,
   "metadata": {
    "ExecuteTime": {
     "end_time": "2020-10-02T13:39:20.326586Z",
     "start_time": "2020-10-02T13:39:19.882800Z"
    }
   },
   "outputs": [
    {
     "data": {
      "text/plain": [
       "(array([2.770e+03, 1.887e+03, 1.765e+03, 1.072e+03, 1.495e+03, 1.549e+03,\n",
       "        9.090e+02, 1.161e+03, 8.880e+02, 4.900e+02, 7.230e+02, 5.250e+02,\n",
       "        4.190e+02, 2.420e+02, 3.680e+02, 2.830e+02, 1.730e+02, 2.330e+02,\n",
       "        1.890e+02, 1.350e+02, 1.630e+02, 1.280e+02, 1.030e+02, 6.700e+01,\n",
       "        1.030e+02, 8.300e+01, 4.300e+01, 7.000e+01, 4.800e+01, 3.000e+01,\n",
       "        5.400e+01, 3.900e+01, 3.300e+01, 2.400e+01, 2.400e+01, 2.900e+01,\n",
       "        1.200e+01, 2.000e+01, 1.200e+01, 9.000e+00, 1.100e+01, 1.100e+01,\n",
       "        1.800e+01, 8.000e+00, 1.800e+01, 1.000e+01, 6.000e+00, 5.000e+00,\n",
       "        5.000e+00, 4.000e+00, 6.000e+00, 6.000e+00, 2.000e+00, 5.000e+00,\n",
       "        4.000e+00, 2.000e+00, 1.000e+00, 3.000e+00, 0.000e+00, 0.000e+00,\n",
       "        3.000e+00, 0.000e+00, 3.000e+00, 0.000e+00, 3.000e+00, 2.000e+00,\n",
       "        2.000e+00, 1.000e+00, 1.000e+00, 0.000e+00, 1.000e+00, 2.000e+00,\n",
       "        0.000e+00, 0.000e+00, 1.000e+00, 1.000e+00, 1.000e+00, 1.000e+00,\n",
       "        0.000e+00, 0.000e+00, 1.000e+00, 0.000e+00, 0.000e+00, 0.000e+00,\n",
       "        1.000e+00, 0.000e+00, 0.000e+00, 0.000e+00, 0.000e+00, 0.000e+00,\n",
       "        0.000e+00, 1.000e+00, 0.000e+00, 0.000e+00, 0.000e+00, 1.000e+00,\n",
       "        1.000e+00, 0.000e+00, 0.000e+00, 0.000e+00, 1.000e+00, 0.000e+00,\n",
       "        0.000e+00, 1.000e+00, 0.000e+00, 0.000e+00, 0.000e+00, 0.000e+00,\n",
       "        0.000e+00, 0.000e+00, 0.000e+00, 0.000e+00, 0.000e+00, 0.000e+00,\n",
       "        0.000e+00, 0.000e+00, 0.000e+00, 0.000e+00, 0.000e+00, 0.000e+00,\n",
       "        0.000e+00, 0.000e+00, 1.000e+00, 0.000e+00, 0.000e+00, 0.000e+00,\n",
       "        0.000e+00, 0.000e+00, 1.000e+00, 0.000e+00, 1.000e+00, 0.000e+00,\n",
       "        0.000e+00, 0.000e+00, 1.000e+00, 0.000e+00, 0.000e+00, 0.000e+00,\n",
       "        1.000e+00, 0.000e+00, 0.000e+00, 0.000e+00, 1.000e+00, 0.000e+00,\n",
       "        0.000e+00, 0.000e+00, 0.000e+00, 0.000e+00, 0.000e+00, 0.000e+00,\n",
       "        0.000e+00, 0.000e+00, 0.000e+00, 0.000e+00, 1.000e+00, 0.000e+00,\n",
       "        0.000e+00, 0.000e+00, 0.000e+00, 0.000e+00, 1.000e+00, 0.000e+00,\n",
       "        1.000e+00, 0.000e+00, 0.000e+00, 0.000e+00, 0.000e+00, 0.000e+00,\n",
       "        0.000e+00, 0.000e+00, 0.000e+00, 0.000e+00, 0.000e+00, 0.000e+00,\n",
       "        0.000e+00, 0.000e+00, 0.000e+00, 0.000e+00, 0.000e+00, 0.000e+00,\n",
       "        0.000e+00, 0.000e+00, 0.000e+00, 0.000e+00, 0.000e+00, 0.000e+00,\n",
       "        0.000e+00, 0.000e+00, 0.000e+00, 0.000e+00, 0.000e+00, 0.000e+00,\n",
       "        0.000e+00, 0.000e+00, 1.000e+00, 1.000e+00, 0.000e+00, 0.000e+00,\n",
       "        0.000e+00, 1.000e+00]),\n",
       " array([  1. ,   3.7,   6.4,   9.1,  11.8,  14.5,  17.2,  19.9,  22.6,\n",
       "         25.3,  28. ,  30.7,  33.4,  36.1,  38.8,  41.5,  44.2,  46.9,\n",
       "         49.6,  52.3,  55. ,  57.7,  60.4,  63.1,  65.8,  68.5,  71.2,\n",
       "         73.9,  76.6,  79.3,  82. ,  84.7,  87.4,  90.1,  92.8,  95.5,\n",
       "         98.2, 100.9, 103.6, 106.3, 109. , 111.7, 114.4, 117.1, 119.8,\n",
       "        122.5, 125.2, 127.9, 130.6, 133.3, 136. , 138.7, 141.4, 144.1,\n",
       "        146.8, 149.5, 152.2, 154.9, 157.6, 160.3, 163. , 165.7, 168.4,\n",
       "        171.1, 173.8, 176.5, 179.2, 181.9, 184.6, 187.3, 190. , 192.7,\n",
       "        195.4, 198.1, 200.8, 203.5, 206.2, 208.9, 211.6, 214.3, 217. ,\n",
       "        219.7, 222.4, 225.1, 227.8, 230.5, 233.2, 235.9, 238.6, 241.3,\n",
       "        244. , 246.7, 249.4, 252.1, 254.8, 257.5, 260.2, 262.9, 265.6,\n",
       "        268.3, 271. , 273.7, 276.4, 279.1, 281.8, 284.5, 287.2, 289.9,\n",
       "        292.6, 295.3, 298. , 300.7, 303.4, 306.1, 308.8, 311.5, 314.2,\n",
       "        316.9, 319.6, 322.3, 325. , 327.7, 330.4, 333.1, 335.8, 338.5,\n",
       "        341.2, 343.9, 346.6, 349.3, 352. , 354.7, 357.4, 360.1, 362.8,\n",
       "        365.5, 368.2, 370.9, 373.6, 376.3, 379. , 381.7, 384.4, 387.1,\n",
       "        389.8, 392.5, 395.2, 397.9, 400.6, 403.3, 406. , 408.7, 411.4,\n",
       "        414.1, 416.8, 419.5, 422.2, 424.9, 427.6, 430.3, 433. , 435.7,\n",
       "        438.4, 441.1, 443.8, 446.5, 449.2, 451.9, 454.6, 457.3, 460. ,\n",
       "        462.7, 465.4, 468.1, 470.8, 473.5, 476.2, 478.9, 481.6, 484.3,\n",
       "        487. , 489.7, 492.4, 495.1, 497.8, 500.5, 503.2, 505.9, 508.6,\n",
       "        511.3, 514. , 516.7, 519.4, 522.1, 524.8, 527.5, 530.2, 532.9,\n",
       "        535.6, 538.3, 541. ]),\n",
       " <a list of 200 Patch objects>)"
      ]
     },
     "execution_count": 40,
     "metadata": {},
     "output_type": "execute_result"
    },
    {
     "data": {
      "image/png": "[encoded data removed]",
      "text/plain": [
       "<Figure size 432x288 with 1 Axes>"
      ]
     },
     "metadata": {},
     "output_type": "display_data"
    }
   ],
   "source": [
    "plt.hist(i2n.values,bins=200)\n",
    "#plt.xlim(0,200)"
   ]
  },
  {
   "cell_type": "markdown",
   "metadata": {},
   "source": [
    "This is a markdown cell. Replace this cell with your insights and reasons for (9).\n",
    "- a large number of people buy few things in one transaction.\n",
    "- less people buy lots of unique items in one transaction."
   ]
  },
  {
   "cell_type": "markdown",
   "metadata": {},
   "source": [
    "#### Section 4 - Mining Association Rules"
   ]
  },
  {
   "cell_type": "markdown",
   "metadata": {},
   "source": [
    "<span style=\"color:blue\"> 1) Will we complete the counting before the sun burns out (the sun has another $ 5 \\times 10^9 < 2^{33} $ years to burn)? </span>"
   ]
  },
  {
   "cell_type": "markdown",
   "metadata": {},
   "source": [
    "This is a markdown cell. Replace this cell with your answer and reasons for (1).\n",
    "- $3^{3665} > 2^{33}*2^{36}*2^{25} > 2^{33}*2^{36}*365*24*60*60$\n",
    "- Therefore, we cannot finish the counting before the sun burns out"
   ]
  },
  {
   "cell_type": "markdown",
   "metadata": {},
   "source": [
    "<span style=\"color:blue\"> 2) Run efficient-apriori in python with min_support=0.025, min_confidence=0.2, max_length=4. Write down the number of rules found and the rule with the highest lift. </span>"
   ]
  },
  {
   "cell_type": "code",
   "execution_count": 42,
   "metadata": {
    "ExecuteTime": {
     "end_time": "2020-10-02T13:40:39.308449Z",
     "start_time": "2020-10-02T13:40:38.903355Z"
    }
   },
   "outputs": [
    {
     "data": {
      "text/html": [
       "<div>\n",
       "<style scoped>\n",
       "    .dataframe tbody tr th:only-of-type {\n",
       "        vertical-align: middle;\n",
       "    }\n",
       "\n",
       "    .dataframe tbody tr th {\n",
       "        vertical-align: top;\n",
       "    }\n",
       "\n",
       "    .dataframe thead th {\n",
       "        text-align: right;\n",
       "    }\n",
       "</style>\n",
       "<table border=\"1\" class=\"dataframe\">\n",
       "  <thead>\n",
       "    <tr style=\"text-align: right;\">\n",
       "      <th></th>\n",
       "      <th>InvoiceNo</th>\n",
       "      <th>StockCode</th>\n",
       "      <th>Description</th>\n",
       "      <th>Quantity</th>\n",
       "      <th>InvoiceDate</th>\n",
       "      <th>UnitPrice</th>\n",
       "      <th>CustomerID</th>\n",
       "    </tr>\n",
       "  </thead>\n",
       "  <tbody>\n",
       "    <tr>\n",
       "      <th>0</th>\n",
       "      <td>536365</td>\n",
       "      <td>85123A</td>\n",
       "      <td>WHITE HANGING HEART T-LIGHT HOLDER</td>\n",
       "      <td>6</td>\n",
       "      <td>2010-12-01 08:26:00</td>\n",
       "      <td>2.55</td>\n",
       "      <td>17850.0</td>\n",
       "    </tr>\n",
       "    <tr>\n",
       "      <th>1</th>\n",
       "      <td>536365</td>\n",
       "      <td>71053</td>\n",
       "      <td>WHITE METAL LANTERN</td>\n",
       "      <td>6</td>\n",
       "      <td>2010-12-01 08:26:00</td>\n",
       "      <td>3.39</td>\n",
       "      <td>17850.0</td>\n",
       "    </tr>\n",
       "    <tr>\n",
       "      <th>2</th>\n",
       "      <td>536365</td>\n",
       "      <td>84406B</td>\n",
       "      <td>CREAM CUPID HEARTS COAT HANGER</td>\n",
       "      <td>8</td>\n",
       "      <td>2010-12-01 08:26:00</td>\n",
       "      <td>2.75</td>\n",
       "      <td>17850.0</td>\n",
       "    </tr>\n",
       "    <tr>\n",
       "      <th>3</th>\n",
       "      <td>536365</td>\n",
       "      <td>84029G</td>\n",
       "      <td>KNITTED UNION FLAG HOT WATER BOTTLE</td>\n",
       "      <td>6</td>\n",
       "      <td>2010-12-01 08:26:00</td>\n",
       "      <td>3.39</td>\n",
       "      <td>17850.0</td>\n",
       "    </tr>\n",
       "    <tr>\n",
       "      <th>4</th>\n",
       "      <td>536365</td>\n",
       "      <td>84029E</td>\n",
       "      <td>RED WOOLLY HOTTIE WHITE HEART.</td>\n",
       "      <td>6</td>\n",
       "      <td>2010-12-01 08:26:00</td>\n",
       "      <td>3.39</td>\n",
       "      <td>17850.0</td>\n",
       "    </tr>\n",
       "  </tbody>\n",
       "</table>\n",
       "</div>"
      ],
      "text/plain": [
       "  InvoiceNo StockCode                          Description  Quantity  \\\n",
       "0    536365    85123A   WHITE HANGING HEART T-LIGHT HOLDER         6   \n",
       "1    536365     71053                  WHITE METAL LANTERN         6   \n",
       "2    536365    84406B       CREAM CUPID HEARTS COAT HANGER         8   \n",
       "3    536365    84029G  KNITTED UNION FLAG HOT WATER BOTTLE         6   \n",
       "4    536365    84029E       RED WOOLLY HOTTIE WHITE HEART.         6   \n",
       "\n",
       "           InvoiceDate  UnitPrice  CustomerID  \n",
       "0  2010-12-01 08:26:00       2.55     17850.0  \n",
       "1  2010-12-01 08:26:00       3.39     17850.0  \n",
       "2  2010-12-01 08:26:00       2.75     17850.0  \n",
       "3  2010-12-01 08:26:00       3.39     17850.0  \n",
       "4  2010-12-01 08:26:00       3.39     17850.0  "
      ]
     },
     "execution_count": 42,
     "metadata": {},
     "output_type": "execute_result"
    }
   ],
   "source": [
    "df=pd.read_csv(\"record.csv\")\n",
    "df=df[(df.Quantity>=0) & (df.CustomerID.notnull())]\n",
    "df.head()"
   ]
  },
  {
   "cell_type": "code",
   "execution_count": 43,
   "metadata": {
    "ExecuteTime": {
     "end_time": "2020-10-02T13:40:47.186344Z",
     "start_time": "2020-10-02T13:40:39.515645Z"
    }
   },
   "outputs": [],
   "source": [
    "def f(row):return [row[\"StockCode\"]]\n",
    "df[\"StockCode\"] = df.apply(f, axis=1)\n",
    "transactionsInit=df.groupby([\"InvoiceNo\"])['StockCode'].sum().values.tolist()"
   ]
  },
  {
   "cell_type": "code",
   "execution_count": 44,
   "metadata": {
    "ExecuteTime": {
     "end_time": "2020-10-02T13:40:47.323307Z",
     "start_time": "2020-10-02T13:40:47.187537Z"
    }
   },
   "outputs": [],
   "source": [
    "transactions=[]\n",
    "for i in transactionsInit:transactions.append(list(set(i)))"
   ]
  },
  {
   "cell_type": "code",
   "execution_count": 46,
   "metadata": {
    "ExecuteTime": {
     "end_time": "2020-10-02T13:41:33.042717Z",
     "start_time": "2020-10-02T13:41:17.129789Z"
    }
   },
   "outputs": [
    {
     "name": "stdout",
     "output_type": "stream",
     "text": [
      "number of rules 22\n",
      "highest lift [{22699} -> {22697}, {22697} -> {22699}]\n"
     ]
    }
   ],
   "source": [
    "itemsets, rules = apriori(transactions, min_support=0.025,  min_confidence=0.2,max_length=4)\n",
    "rules=sorted(rules,key=lambda rule:rule.lift,reverse=True)"
   ]
  },
  {
   "cell_type": "code",
   "execution_count": 47,
   "metadata": {
    "ExecuteTime": {
     "end_time": "2020-10-02T13:41:34.208339Z",
     "start_time": "2020-10-02T13:41:34.205961Z"
    }
   },
   "outputs": [
    {
     "name": "stdout",
     "output_type": "stream",
     "text": [
      "number of rules 22\n",
      "highest lift {22699} -> {22697} (conf: 0.691, supp: 0.029, lift: 18.534, conv: 3.115) {22697} -> {22699} (conf: 0.783, supp: 0.029, lift: 18.534, conv: 4.412)\n"
     ]
    }
   ],
   "source": [
    "print('number of rules',len(rules))\n",
    "print(\"highest lift\",rules[0],rules[1])"
   ]
  },
  {
   "cell_type": "markdown",
   "metadata": {},
   "source": [
    "- the number of rules found:22\n",
    "- the rule with the highest lift \n",
    "    - {22699} -> {22697} (conf: 0.691, supp: 0.029, lift: 18.534, conv: 3.115)\n",
    "    - {22697} -> {22699} (conf: 0.783, supp: 0.029, lift: 18.534, conv: 4.412)"
   ]
  },
  {
   "cell_type": "markdown",
   "metadata": {},
   "source": [
    "<span style=\"color:blue\"> 3) Run efficient-apriori in python with min_support=0.02, min_confidence=0.2, max_length=4. Write down the number of rules found and the rule with the highest lift. </span>"
   ]
  },
  {
   "cell_type": "code",
   "execution_count": 48,
   "metadata": {
    "ExecuteTime": {
     "end_time": "2020-10-02T13:42:42.741842Z",
     "start_time": "2020-10-02T13:42:08.046621Z"
    }
   },
   "outputs": [],
   "source": [
    "min_support,min_confidence=0.02,0.2\n",
    "itemsets, rules = apriori(transactions, min_support=0.02,  min_confidence=0.2,max_length=4)\n",
    "rules=sorted(rules,key=lambda rule:rule.lift,reverse=True)"
   ]
  },
  {
   "cell_type": "code",
   "execution_count": 49,
   "metadata": {
    "ExecuteTime": {
     "end_time": "2020-10-02T13:42:42.745873Z",
     "start_time": "2020-10-02T13:42:42.743336Z"
    }
   },
   "outputs": [
    {
     "name": "stdout",
     "output_type": "stream",
     "text": [
      "number of rules 88\n",
      "highest lift {22697, 22699} -> {22698} (conf: 0.721, supp: 0.021, lift: 24.033, conv: 3.475) {22698} -> {22697, 22699} (conf: 0.701, supp: 0.021, lift: 24.033, conv: 3.252)\n"
     ]
    }
   ],
   "source": [
    "print('number of rules',len(rules))\n",
    "print(\"highest lift\",rules[0],rules[1])"
   ]
  },
  {
   "cell_type": "markdown",
   "metadata": {},
   "source": [
    "- the number of rules found:88\n",
    "- the rule with the highest lift:\n",
    "    - {22697, 22699} -> {22698} (conf: 0.721, supp: 0.021, lift: 24.033, conv: 3.475)\n",
    "    - {22698} -> {22697, 22699} (conf: 0.721, supp: 0.021, lift: 24.033, conv: 3.475)"
   ]
  },
  {
   "cell_type": "markdown",
   "metadata": {},
   "source": [
    "<span style=\"color:blue\"> 4) Run efficient-apriori in python with min_support=0.025, min_confidence=0.4, max_length=4. Write down the number of rules found and the rule with the highest lift. </span>"
   ]
  },
  {
   "cell_type": "code",
   "execution_count": 53,
   "metadata": {
    "ExecuteTime": {
     "end_time": "2020-09-25T12:06:37.682203Z",
     "start_time": "2020-09-25T12:06:09.827632Z"
    }
   },
   "outputs": [
    {
     "name": "stdout",
     "output_type": "stream",
     "text": [
      "number of rules 19\n",
      "highest lift {22699} -> {22697} (conf: 0.691, supp: 0.029, lift: 18.534, conv: 3.115)\n"
     ]
    }
   ],
   "source": [
    "itemsets, rules = apriori(transactions, min_support=0.025,  min_confidence=0.4,max_length=4)\n",
    "rules=sorted(rules,key=lambda rule:rule.lift,reverse=True)\n",
    "print('number of rules',len(rules))\n",
    "print(\"highest lift\",rules[0])"
   ]
  },
  {
   "cell_type": "markdown",
   "metadata": {},
   "source": [
    "- the number of rules found:19\n",
    "- the rule with the highest lift:\n",
    "    - {22699} -> {22697} (conf: 0.691, supp: 0.029, lift: 18.534, conv: 3.115)\n",
    "    - {22697} -> {22699} (conf: 0.691, supp: 0.029, lift: 18.534, conv: 3.115)"
   ]
  },
  {
   "cell_type": "markdown",
   "metadata": {},
   "source": [
    "<span style=\"color:blue\"> 5) Compare the first two cases. How do they differ in the time taken for the algorithm to run, the number of rules found, and the lift of the highest lift rule? Briefly explain why each of these findings occur, based on the effects of changing min_support.  </span>"
   ]
  },
  {
   "cell_type": "markdown",
   "metadata": {},
   "source": [
    "# case 1 vs case 2\n",
    "- time difference: 19s < 41.3s\n",
    "    - Because the min_support in the case 2 is less than case one, less itemsets are generated in the Frequent Itemset Generation phase in the case 1. \n",
    "    - Rule Generation phase is very fast since the algorithm can use information provided in the phase one. There are no much differences in Rule Generation phase.\n",
    "- the number of rules: 22 < 88\n",
    "    - There are more candidate itemsets for Rule Generation phase and the same limitation for the Rule Generation phase, therefore, we have more rules generated.\n",
    "- the lift of the highest lift rule: {22699} -> {22697}:18.534 < {22697, 22699} -> {22698}:24.033\n",
    "    - If we set smaller min_support, we will have more frequent itemsets. If we have itemsets with samller support, we have chance to get bigger lift. \n",
    "    - $supp(A\\cup B) \\div (supp(A) \\times supp(B)) = (n(A\\cup B) \\times n(all)) \\div (n(A) \\times n(B))$. If we let $n(A)=n(B)=n(A\\cup B)$, the lift value$=n(all) \\div n(A)= 1 \\div supp(A)$, which means less $n(A)$ have larger lift values."
   ]
  },
  {
   "cell_type": "markdown",
   "metadata": {},
   "source": [
    "<span style=\"color:blue\"> 6) Compare the first and third case. How do they differ in the number of rules found? Briefly explain why this finding occurs, based on the effects of changing min_confidence. </span>"
   ]
  },
  {
   "cell_type": "markdown",
   "metadata": {},
   "source": [
    "# case 1 vs case 3\n",
    "- the number of rules: 22 > 19\n",
    "    - There are the same candidate itemsets generated in Frequent Itemset Generation phase. However, the limitation for min_confidence is different. The larger min_confidence generate less rules.   "
   ]
  },
  {
   "cell_type": "markdown",
   "metadata": {},
   "source": [
    "<span style=\"color:blue\"> 7) Report the descriptions of the items associated with the highest lift rule you found in the three queries (you may use any method to do this). Does the rule make sense? </span>"
   ]
  },
  {
   "cell_type": "code",
   "execution_count": 54,
   "metadata": {
    "ExecuteTime": {
     "end_time": "2020-09-25T12:28:39.602303Z",
     "start_time": "2020-09-25T12:28:38.848920Z"
    }
   },
   "outputs": [
    {
     "name": "stdout",
     "output_type": "stream",
     "text": [
      "ROSES REGENCY TEACUP AND SAUCER   GREEN REGENCY TEACUP AND SAUCER\n"
     ]
    }
   ],
   "source": [
    "df=pd.read_csv(\"record.csv\")\n",
    "df=df[(df.Quantity>=0) & (df.CustomerID.notnull())]\n",
    "print(df[df.StockCode=='22699']['Description'].iloc[0],'',df[df.StockCode=='22697']['Description'].iloc[0])"
   ]
  },
  {
   "cell_type": "code",
   "execution_count": 55,
   "metadata": {
    "ExecuteTime": {
     "end_time": "2020-09-25T12:29:29.873334Z",
     "start_time": "2020-09-25T12:29:29.776900Z"
    }
   },
   "outputs": [
    {
     "name": "stdout",
     "output_type": "stream",
     "text": [
      "GREEN REGENCY TEACUP AND SAUCER ROSES REGENCY TEACUP AND SAUCER  PINK REGENCY TEACUP AND SAUCER\n"
     ]
    }
   ],
   "source": [
    "print(df[df.StockCode=='22697']['Description'].iloc[0],\n",
    "      df[df.StockCode=='22699']['Description'].iloc[0],\n",
    "      df[df.StockCode=='22698']['Description'].iloc[0])"
   ]
  },
  {
   "cell_type": "code",
   "execution_count": 56,
   "metadata": {
    "ExecuteTime": {
     "end_time": "2020-09-25T12:30:03.956705Z",
     "start_time": "2020-09-25T12:30:03.867892Z"
    }
   },
   "outputs": [
    {
     "name": "stdout",
     "output_type": "stream",
     "text": [
      "ROSES REGENCY TEACUP AND SAUCER  GREEN REGENCY TEACUP AND SAUCER\n"
     ]
    }
   ],
   "source": [
    "print(df[df.StockCode=='22699']['Description'].iloc[0],\n",
    "      df[df.StockCode=='22697']['Description'].iloc[0])"
   ]
  },
  {
   "cell_type": "markdown",
   "metadata": {},
   "source": [
    "- case 1: ROSES REGENCY TEACUP AND SAUCER, GREEN REGENCY TEACUP AND SAUCER\n",
    "- case 2: GREEN REGENCY TEACUP AND SAUCER, ROSES REGENCY TEACUP AND SAUCER,PINK REGENCY TEACUP AND SAUCER\n",
    "- case 3: ROSES REGENCY TEACUP AND SAUCER, GREEN REGENCY TEACUP AND SAUCER\n",
    "- Yes, make sense. Customers perfer to buy TEACUP with two or three different colors together."
   ]
  }
 ],
 "metadata": {
  "kernelspec": {
   "display_name": "Python 3",
   "language": "python",
   "name": "python3"
  },
  "language_info": {
   "codemirror_mode": {
    "name": "ipython",
    "version": 3
   },
   "file_extension": ".py",
   "mimetype": "text/x-python",
   "name": "python",
   "nbconvert_exporter": "python",
   "pygments_lexer": "ipython3",
   "version": "3.6.10"
  }
 },
 "nbformat": 4,
 "nbformat_minor": 2
}
