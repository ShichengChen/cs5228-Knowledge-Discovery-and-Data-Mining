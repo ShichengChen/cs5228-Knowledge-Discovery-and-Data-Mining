{
 "cells": [
  {
   "cell_type": "markdown",
   "metadata": {},
   "source": [
    "#### Assignment 1  - Your Name Here (Your NUSNET ID Here)\n",
    "This answer sheet contains your answer to questions in Section 1~4. Sentences in <span style=\"color:blue\">blue</span> indicates questions to be answered. \n",
    "\n",
    "For open questions, please organize your answer into \"points\" to ease our grading efforts. For example, an answer to \"What is the most popular item? Explain you answer and describe any assumptions you’ve made.\" should look like:\n",
    "\n",
    "> The most popular item ID is 12345. The reason is that:\n",
    "> - reason 1\n",
    "> - reason 2\n",
    "> \n",
    "> I've made the following assumptions:\n",
    "> - assumption 1\n",
    "> - assumption 2\n",
    "\n",
    "If you wish to type math equations in markdown, follow this link: https://jupyter-notebook.readthedocs.io/en/stable/examples/Notebook/Working%20With%20Markdown%20Cells.html#LaTeX-equations\n",
    "\n",
    "Remember to save this Jupyter notebook as __YourNameInLumiNUS_YourNUSNETID.ipynb__."
   ]
  },
  {
   "cell_type": "markdown",
   "metadata": {},
   "source": [
    "**Import all libraries and load data here**"
   ]
  },
  {
   "cell_type": "code",
   "execution_count": 1,
   "metadata": {
    "ExecuteTime": {
     "end_time": "2020-09-24T06:07:01.885485Z",
     "start_time": "2020-09-24T06:07:00.912134Z"
    }
   },
   "outputs": [],
   "source": [
    "# This is a code cell\n",
    "# -- Import all libraries and load data in this cell --\n",
    "from sklearn.cluster import KMeans\n",
    "import numpy as np\n",
    "import joblib\n",
    "import matplotlib.pyplot as plt\n",
    "import pandas as pd\n",
    "import tqdm,itertools\n",
    "from itertools import permutations"
   ]
  },
  {
   "cell_type": "code",
   "execution_count": 2,
   "metadata": {
    "ExecuteTime": {
     "end_time": "2020-09-24T06:07:01.929076Z",
     "start_time": "2020-09-24T06:07:01.886665Z"
    }
   },
   "outputs": [
    {
     "name": "stderr",
     "output_type": "stream",
     "text": [
      "/home/csc/anaconda3/lib/python3.6/site-packages/sklearn/cluster/k_means_.py:896: RuntimeWarning: Explicit initial center position passed: performing only one init in k-means instead of n_init=10\n",
      "  return_n_iter=True)\n"
     ]
    },
    {
     "data": {
      "text/plain": [
       "(array([0, 0, 0, 1, 1, 1, 2, 2, 2], dtype=int32), array([[ 0.,  1.],\n",
       "        [ 0.,  0.],\n",
       "        [ 0., -1.]]))"
      ]
     },
     "execution_count": 2,
     "metadata": {},
     "output_type": "execute_result"
    }
   ],
   "source": [
    "X = np.array([[-5, 1], [0, 1], [5, 1],[-5, 0], [0, 0], [5, 0],[-5, -1], [0, -1], [5, -1]])\n",
    "kmeans = KMeans(n_clusters=3, init=np.array([[0,1],[0,0],[0,-1]])).fit(X)\n",
    "kmeans.labels_,kmeans.cluster_centers_"
   ]
  },
  {
   "cell_type": "code",
   "execution_count": 3,
   "metadata": {
    "ExecuteTime": {
     "end_time": "2020-09-24T06:07:01.936386Z",
     "start_time": "2020-09-24T06:07:01.930512Z"
    }
   },
   "outputs": [
    {
     "name": "stderr",
     "output_type": "stream",
     "text": [
      "/home/csc/anaconda3/lib/python3.6/site-packages/sklearn/cluster/k_means_.py:896: RuntimeWarning: Explicit initial center position passed: performing only one init in k-means instead of n_init=10\n",
      "  return_n_iter=True)\n"
     ]
    },
    {
     "data": {
      "text/plain": [
       "(array([0, 2, 1, 0, 2, 1, 0, 2, 1], dtype=int32), array([[-5.,  0.],\n",
       "        [ 5.,  0.],\n",
       "        [ 0.,  0.]]))"
      ]
     },
     "execution_count": 3,
     "metadata": {},
     "output_type": "execute_result"
    }
   ],
   "source": [
    "X = np.array([[-5, 1], [0, 1], [5, 1],[-5, 0], [0, 0], [5, 0],[-5, -1], [0, -1], [5, -1]])\n",
    "kmeans = KMeans(n_clusters=3, init=np.array([[-5,1],[5,-1],[0,0]])).fit(X)\n",
    "kmeans.labels_,kmeans.cluster_centers_"
   ]
  },
  {
   "cell_type": "markdown",
   "metadata": {},
   "source": [
    "### Section 1 - Clustering and Initialization (20 points)"
   ]
  },
  {
   "cell_type": "markdown",
   "metadata": {},
   "source": [
    "<span style=\"color:blue\"> Consider the nine data points (A, B, C, D, E, F, G, H, I) in Fig. 1. Taking the points D, E, and F as the initial cluster centers, apply the K-Means algorithm on the data, with the number of clusters K = 3. At the end of each iteration, list the positions of the cluster centers, as well as the set of points belonging to each cluster. Do you think this clustering result is satisfactory? </span>"
   ]
  },
  {
   "cell_type": "markdown",
   "metadata": {},
   "source": [
    "- Cluster_1 includes A,D,G and the center of cluster_1 is (0,1)\n",
    "- Cluster_2 includes B,E,H and the center of cluster_1 is (0,0)\n",
    "- Cluster_3 includes C,F,I and the center of cluster_1 is (0,-1)\n",
    "\n",
    "- I am not satisfied with the results. I perfer that points A,B,C, points D,E,F, and points G,H,I belong to the first, second and third cluster respectively."
   ]
  },
  {
   "cell_type": "markdown",
   "metadata": {},
   "source": [
    "<span style=\"color:blue\"> Initialization is important for K-means. Consider the following heuristic method for selecting the initial cluster center positions: <br><br>\n",
    "Choose the first center $c_1$ as the point A.<br>\n",
    "For $k=2,...,K$, set $c_k = \\underset{x\\in X}{\\arg\\max}(\\underset{i=1,...,k-1}{\\min}\\Vert x - c_i \\Vert_2)$, where X is the set of data points.<br><br>\n",
    "Apply this heuristic to the data points in Fig. 1. Show the computed cluster centers for K = 3. Next, run the K-means algorithm with the obtained cluster centers. At the end of each iteration, list the positions of the cluster centers, as well as the set of points belonging to each cluster.\n",
    "</span>"
   ]
  },
  {
   "cell_type": "markdown",
   "metadata": {},
   "source": [
    "- Cluster_1 includes A,B,C and the center of cluster_1 is (-5,0)\n",
    "- Cluster_2 includes G,H,I and the center of cluster_1 is (5,0)\n",
    "- Cluster_3 includes D,E,F and the center of cluster_1 is (0,0)"
   ]
  },
  {
   "cell_type": "markdown",
   "metadata": {},
   "source": [
    "### Section 2 - Selecting the Number of Clusters (10 points)"
   ]
  },
  {
   "cell_type": "markdown",
   "metadata": {},
   "source": [
    "<span style=\"color:blue\"> Here, we will explore how to select the number of clusters. Using Python 3.6, load the attached data file 'assignment1.data' using the following commands:</span>\n",
    "    \n",
    "<span style=\"color:blue\">import joblib<br>X = joblib.load('assignment1.data')</span>\n",
    "\n",
    "<span style=\"color:blue\">This results in X, which is a 400 by 2 matrix, where each row is a single sample, in 2 dimensions. Apply K-means on these samples with K ranging from 1 to 10. Plot a figure, where the y-axis is the Within Cluster Sum of Squares (WCSS) after convergence, and the x-axis is K from 1 to 10: </span>\n",
    "\n",
    "<span style=\"color:blue\">$WCSS = \\sum_{k=1}^K \\sum_{x \\in C_i} \\Vert x - c_i \\Vert_2^2$</span>\n",
    "\n",
    "<span style=\"color:blue\">Select a value of K that you think is appropriate for clustering this dataset, and explain the reason. </span>"
   ]
  },
  {
   "cell_type": "code",
   "execution_count": 4,
   "metadata": {
    "ExecuteTime": {
     "end_time": "2020-09-24T06:07:04.575531Z",
     "start_time": "2020-09-24T06:07:04.261005Z"
    }
   },
   "outputs": [
    {
     "data": {
      "text/plain": [
       "([<matplotlib.lines.Line2D at 0x150e92c86208>],\n",
       " [1, 2, 3, 4, 5, 6, 7, 8, 9, 10],\n",
       " [22800.675548638057,\n",
       "  10437.716090329679,\n",
       "  3937.5280395580567,\n",
       "  517.8860917080183,\n",
       "  463.46247191716486,\n",
       "  414.55682439373464,\n",
       "  372.5963875002999,\n",
       "  323.82556564047775,\n",
       "  298.121337527137,\n",
       "  267.3763242355651])"
      ]
     },
     "execution_count": 4,
     "metadata": {},
     "output_type": "execute_result"
    },
    {
     "data": {
      "image/png": "[encoded data removed]",
      "text/plain": [
       "<Figure size 432x288 with 1 Axes>"
      ]
     },
     "metadata": {},
     "output_type": "display_data"
    }
   ],
   "source": [
    "x = joblib.load('assignment1.data')\n",
    "x.shape\n",
    "\n",
    "a,b=[],[]\n",
    "for k in range(1,11):\n",
    "    kmeans = KMeans(n_clusters=k, random_state=0).fit(x)\n",
    "    s=0\n",
    "    for i in range(k):\n",
    "        idx=np.arange(x.shape[0])[i==kmeans.labels_]\n",
    "        s+=np.sum((x[idx]-kmeans.cluster_centers_[i:i+1])**2)\n",
    "    a.append(k)\n",
    "    b.append(s)\n",
    "plt.plot(a,b),a,b"
   ]
  },
  {
   "cell_type": "code",
   "execution_count": 5,
   "metadata": {
    "ExecuteTime": {
     "end_time": "2020-09-24T06:07:04.978040Z",
     "start_time": "2020-09-24T06:07:04.976088Z"
    }
   },
   "outputs": [],
   "source": [
    "# This is a code cell\n",
    "# -- Your code for running clustering and plotting the figure goes here."
   ]
  },
  {
   "cell_type": "markdown",
   "metadata": {},
   "source": [
    "This is a markdown cell. Replace this cell with your answer about the value of K, and the explanation.\n",
    "- When k is less than 4, the costs are very high.\n",
    "- When k is more than 4, the costs reduce slightly since bigger k tends have less cost. The reduction of costs is not because of finding new clusters.\n",
    "- I would like to set K=4 since it has reasonable costs and enough clusters."
   ]
  },
  {
   "cell_type": "markdown",
   "metadata": {},
   "source": [
    "### Section 3 - Data Cleaning and Exploration (20 points)"
   ]
  },
  {
   "cell_type": "markdown",
   "metadata": {},
   "source": [
    "<span style=\"color:blue\"> 1) Before continuing, let us examine the dataset for “dirty” records to do some data cleaning. Remove the records with negative values of the Quantity variable, and the records with NaN values of the CustomerID variable. Report how many records were removed in total. </span>"
   ]
  },
  {
   "cell_type": "markdown",
   "metadata": {},
   "source": [
    "This is a markdown cell. Replace this cell with your answer about \"dirty\" records. \n",
    "- I removed 143985 rows"
   ]
  },
  {
   "cell_type": "code",
   "execution_count": 6,
   "metadata": {
    "ExecuteTime": {
     "end_time": "2020-09-24T06:07:06.795939Z",
     "start_time": "2020-09-24T06:07:06.314920Z"
    }
   },
   "outputs": [
    {
     "name": "stdout",
     "output_type": "stream",
     "text": [
      "10624 135080\n",
      "all removed 143985\n"
     ]
    }
   ],
   "source": [
    "df=pd.read_csv(\"record.csv\")\n",
    "df['Quantity']=df['Quantity'].astype(int)\n",
    "print(len(df[(df.Quantity<0)]),len(df[df.CustomerID.isnull()]))\n",
    "print('all removed',len(df[(df.Quantity<0) | (df.CustomerID.isnull())]))"
   ]
  },
  {
   "cell_type": "code",
   "execution_count": 7,
   "metadata": {
    "ExecuteTime": {
     "end_time": "2020-09-24T06:07:06.798991Z",
     "start_time": "2020-09-24T06:07:06.797339Z"
    }
   },
   "outputs": [],
   "source": [
    "# This is a code cell\n",
    "# -- Your code for removing dirty records goes here --"
   ]
  },
  {
   "cell_type": "markdown",
   "metadata": {},
   "source": [
    "<span style=\"color:blue\"> 2)~9) Please provide the answers to the questions listed in the table. </span>"
   ]
  },
  {
   "cell_type": "code",
   "execution_count": 8,
   "metadata": {
    "ExecuteTime": {
     "end_time": "2020-09-24T06:07:07.429426Z",
     "start_time": "2020-09-24T06:07:06.869076Z"
    }
   },
   "outputs": [
    {
     "data": {
      "text/plain": [
       "397924"
      ]
     },
     "execution_count": 8,
     "metadata": {},
     "output_type": "execute_result"
    }
   ],
   "source": [
    "df=pd.read_csv(\"record.csv\")\n",
    "df=df[(df.Quantity>=0) & (df.CustomerID.notnull())]\n",
    "len(df)"
   ]
  },
  {
   "cell_type": "code",
   "execution_count": 9,
   "metadata": {
    "ExecuteTime": {
     "end_time": "2020-09-24T06:07:07.657595Z",
     "start_time": "2020-09-24T06:07:07.431209Z"
    }
   },
   "outputs": [
    {
     "data": {
      "text/plain": [
       "'2010-12-01 08:26:00'"
      ]
     },
     "execution_count": 9,
     "metadata": {},
     "output_type": "execute_result"
    }
   ],
   "source": [
    "df.sort_values(by='InvoiceDate').iloc[0]['InvoiceDate']"
   ]
  },
  {
   "cell_type": "code",
   "execution_count": 10,
   "metadata": {
    "ExecuteTime": {
     "end_time": "2020-09-24T06:07:07.910545Z",
     "start_time": "2020-09-24T06:07:07.660074Z"
    }
   },
   "outputs": [
    {
     "data": {
      "text/plain": [
       "'2011-12-09 12:50:00'"
      ]
     },
     "execution_count": 10,
     "metadata": {},
     "output_type": "execute_result"
    }
   ],
   "source": [
    "df.sort_values(by='InvoiceDate').iloc[-1]['InvoiceDate']"
   ]
  },
  {
   "cell_type": "code",
   "execution_count": 11,
   "metadata": {
    "ExecuteTime": {
     "end_time": "2020-09-24T06:07:07.915338Z",
     "start_time": "2020-09-24T06:07:07.911921Z"
    }
   },
   "outputs": [],
   "source": [
    "#np.sort(np.unique(df['CustomerID'].values))[:40]"
   ]
  },
  {
   "cell_type": "code",
   "execution_count": 12,
   "metadata": {
    "ExecuteTime": {
     "end_time": "2020-09-24T06:07:07.949383Z",
     "start_time": "2020-09-24T06:07:07.929924Z"
    }
   },
   "outputs": [
    {
     "data": {
      "text/plain": [
       "(4339, 4339)"
      ]
     },
     "execution_count": 12,
     "metadata": {},
     "output_type": "execute_result"
    }
   ],
   "source": [
    "len(np.unique(df['CustomerID'].values)),df['CustomerID'].nunique()"
   ]
  },
  {
   "cell_type": "code",
   "execution_count": 13,
   "metadata": {
    "ExecuteTime": {
     "end_time": "2020-09-24T06:07:08.142883Z",
     "start_time": "2020-09-24T06:07:08.125863Z"
    }
   },
   "outputs": [
    {
     "data": {
      "text/plain": [
       "18536"
      ]
     },
     "execution_count": 13,
     "metadata": {},
     "output_type": "execute_result"
    }
   ],
   "source": [
    "df['InvoiceNo'].nunique()"
   ]
  },
  {
   "cell_type": "code",
   "execution_count": 14,
   "metadata": {
    "ExecuteTime": {
     "end_time": "2020-09-24T06:07:08.411307Z",
     "start_time": "2020-09-24T06:07:08.315869Z"
    }
   },
   "outputs": [
    {
     "data": {
      "text/plain": [
       "(3665, 3877)"
      ]
     },
     "execution_count": 14,
     "metadata": {},
     "output_type": "execute_result"
    }
   ],
   "source": [
    "df['StockCode'].nunique(),df['Description'].nunique()"
   ]
  },
  {
   "cell_type": "code",
   "execution_count": 15,
   "metadata": {
    "ExecuteTime": {
     "end_time": "2020-09-24T06:07:08.520591Z",
     "start_time": "2020-09-24T06:07:08.511066Z"
    }
   },
   "outputs": [
    {
     "data": {
      "text/plain": [
       "34"
      ]
     },
     "execution_count": 15,
     "metadata": {},
     "output_type": "execute_result"
    }
   ],
   "source": [
    "df[df['CustomerID']==17850]['InvoiceNo'].nunique()"
   ]
  },
  {
   "cell_type": "code",
   "execution_count": 16,
   "metadata": {
    "ExecuteTime": {
     "end_time": "2020-09-24T06:07:08.899879Z",
     "start_time": "2020-09-24T06:07:08.716653Z"
    }
   },
   "outputs": [
    {
     "data": {
      "text/plain": [
       "CustomerID\n",
       "12748.0    210\n",
       "Name: InvoiceNo, dtype: int64"
      ]
     },
     "execution_count": 16,
     "metadata": {},
     "output_type": "execute_result"
    }
   ],
   "source": [
    "c2n=df.groupby('CustomerID')['InvoiceNo'].nunique()\n",
    "c2n[c2n==c2n.max()]"
   ]
  },
  {
   "cell_type": "code",
   "execution_count": 17,
   "metadata": {
    "ExecuteTime": {
     "end_time": "2020-09-24T06:07:08.930293Z",
     "start_time": "2020-09-24T06:07:08.901118Z"
    }
   },
   "outputs": [
    {
     "data": {
      "text/plain": [
       "StockCode\n",
       "23843    80995\n",
       "Name: Quantity, dtype: int64"
      ]
     },
     "execution_count": 17,
     "metadata": {},
     "output_type": "execute_result"
    }
   ],
   "source": [
    "s2n=df.groupby('StockCode')['Quantity'].sum()\n",
    "s2n[s2n==s2n.max()]"
   ]
  },
  {
   "cell_type": "code",
   "execution_count": 18,
   "metadata": {
    "ExecuteTime": {
     "end_time": "2020-09-24T06:07:09.145483Z",
     "start_time": "2020-09-24T06:07:09.110615Z"
    }
   },
   "outputs": [
    {
     "data": {
      "text/plain": [
       "3665"
      ]
     },
     "execution_count": 18,
     "metadata": {},
     "output_type": "execute_result"
    }
   ],
   "source": [
    "df.StockCode.nunique()"
   ]
  },
  {
   "cell_type": "code",
   "execution_count": 19,
   "metadata": {
    "ExecuteTime": {
     "end_time": "2020-09-24T06:07:09.381903Z",
     "start_time": "2020-09-24T06:07:09.380328Z"
    }
   },
   "outputs": [],
   "source": [
    "# This is a code cell\n",
    "# -- (Optional) Your code for filling in the table goes here. --"
   ]
  },
  {
   "cell_type": "markdown",
   "metadata": {},
   "source": [
    "This is a markdown cell. Please fill in your answer for (2)~(9).\n",
    "\n",
    "| No. | Question                                                                                                   | Answer       |\n",
    "|-----|------------------------------------------------------------------------------------------------------------|--------------|\n",
    "| 2)  | Starting date of the dataset?                                                                              | 2010-12-01 |\n",
    "| 3)  | Ending date of the dataset?                                                                                | 2011-12-09 |\n",
    "| 4)  | Number of customers?                                                                                       | 4339 |\n",
    "| 5)  | Number of transactions?                                                                                    | 18536 |\n",
    "| 6)  | Number of different kind of items?                                                                         | 3665 |\n",
    "| 7)  | Number of transactions customer ID 17850 has made?                                                         | 34 |\n",
    "| 8)  | Which customer (ID) has made the most transactions?                                                        | 12748 |\n",
    "| 9)  | What is the item ID (i.e. StockCode) of the best-seller? We define \"best-seller\" as the item with the highest sales volume. | 23843 |"
   ]
  },
  {
   "cell_type": "markdown",
   "metadata": {},
   "source": [
    "<span style=\"color:blue\"> 10) Next, let us get some general understanding about the transactions. Please make a histogram of the number of unique items per transaction (as described below) and describe one insight that you can observe from the plot.  \n",
    "(Note: You can plot this histogram by running matplotlib.hist() with 200 bins on the sequence of values $n_1, …, n_N$, where $n_i$ is the number of unique items in transaction $i$. This produces a histogram with “number of unique items in transaction” in the x-axis, and “count” in the y-axis, i.e. each bar counts how many transactions fall into the corresponding bucket. It is sufficient to comment on the general shape of the curve and what it implies about the data; it’s fine if the insight does not seem especially interesting.)\n",
    "</span>"
   ]
  },
  {
   "cell_type": "code",
   "execution_count": 20,
   "metadata": {
    "ExecuteTime": {
     "end_time": "2020-09-24T06:07:10.456172Z",
     "start_time": "2020-09-24T06:07:10.454070Z"
    }
   },
   "outputs": [],
   "source": [
    "# This is a code cell\n",
    "# --- Your code for generating the histogram goes here ---"
   ]
  },
  {
   "cell_type": "code",
   "execution_count": 22,
   "metadata": {
    "ExecuteTime": {
     "end_time": "2020-09-24T06:07:15.194911Z",
     "start_time": "2020-09-24T06:07:14.516608Z"
    }
   },
   "outputs": [],
   "source": [
    "df=pd.read_csv(\"record.csv\")\n",
    "df=df[(df.Quantity>=0) & (df.CustomerID.notnull())]\n",
    "i2n=df.groupby('InvoiceNo')['StockCode'].nunique()"
   ]
  },
  {
   "cell_type": "code",
   "execution_count": 23,
   "metadata": {
    "ExecuteTime": {
     "end_time": "2020-09-24T06:07:18.335242Z",
     "start_time": "2020-09-24T06:07:18.332369Z"
    }
   },
   "outputs": [
    {
     "data": {
      "text/plain": [
       "541"
      ]
     },
     "execution_count": 23,
     "metadata": {},
     "output_type": "execute_result"
    }
   ],
   "source": [
    "i2n.max()"
   ]
  },
  {
   "cell_type": "code",
   "execution_count": 24,
   "metadata": {
    "ExecuteTime": {
     "end_time": "2020-09-24T06:07:20.525861Z",
     "start_time": "2020-09-24T06:07:20.130771Z"
    }
   },
   "outputs": [
    {
     "data": {
      "text/plain": [
       "(array([2.770e+03, 1.887e+03, 1.765e+03, 1.072e+03, 1.495e+03, 1.549e+03,\n",
       "        9.090e+02, 1.161e+03, 8.880e+02, 4.900e+02, 7.230e+02, 5.250e+02,\n",
       "        4.190e+02, 2.420e+02, 3.680e+02, 2.830e+02, 1.730e+02, 2.330e+02,\n",
       "        1.890e+02, 1.350e+02, 1.630e+02, 1.280e+02, 1.030e+02, 6.700e+01,\n",
       "        1.030e+02, 8.300e+01, 4.300e+01, 7.000e+01, 4.800e+01, 3.000e+01,\n",
       "        5.400e+01, 3.900e+01, 3.300e+01, 2.400e+01, 2.400e+01, 2.900e+01,\n",
       "        1.200e+01, 2.000e+01, 1.200e+01, 9.000e+00, 1.100e+01, 1.100e+01,\n",
       "        1.800e+01, 8.000e+00, 1.800e+01, 1.000e+01, 6.000e+00, 5.000e+00,\n",
       "        5.000e+00, 4.000e+00, 6.000e+00, 6.000e+00, 2.000e+00, 5.000e+00,\n",
       "        4.000e+00, 2.000e+00, 1.000e+00, 3.000e+00, 0.000e+00, 0.000e+00,\n",
       "        3.000e+00, 0.000e+00, 3.000e+00, 0.000e+00, 3.000e+00, 2.000e+00,\n",
       "        2.000e+00, 1.000e+00, 1.000e+00, 0.000e+00, 1.000e+00, 2.000e+00,\n",
       "        0.000e+00, 0.000e+00, 1.000e+00, 1.000e+00, 1.000e+00, 1.000e+00,\n",
       "        0.000e+00, 0.000e+00, 1.000e+00, 0.000e+00, 0.000e+00, 0.000e+00,\n",
       "        1.000e+00, 0.000e+00, 0.000e+00, 0.000e+00, 0.000e+00, 0.000e+00,\n",
       "        0.000e+00, 1.000e+00, 0.000e+00, 0.000e+00, 0.000e+00, 1.000e+00,\n",
       "        1.000e+00, 0.000e+00, 0.000e+00, 0.000e+00, 1.000e+00, 0.000e+00,\n",
       "        0.000e+00, 1.000e+00, 0.000e+00, 0.000e+00, 0.000e+00, 0.000e+00,\n",
       "        0.000e+00, 0.000e+00, 0.000e+00, 0.000e+00, 0.000e+00, 0.000e+00,\n",
       "        0.000e+00, 0.000e+00, 0.000e+00, 0.000e+00, 0.000e+00, 0.000e+00,\n",
       "        0.000e+00, 0.000e+00, 1.000e+00, 0.000e+00, 0.000e+00, 0.000e+00,\n",
       "        0.000e+00, 0.000e+00, 1.000e+00, 0.000e+00, 1.000e+00, 0.000e+00,\n",
       "        0.000e+00, 0.000e+00, 1.000e+00, 0.000e+00, 0.000e+00, 0.000e+00,\n",
       "        1.000e+00, 0.000e+00, 0.000e+00, 0.000e+00, 1.000e+00, 0.000e+00,\n",
       "        0.000e+00, 0.000e+00, 0.000e+00, 0.000e+00, 0.000e+00, 0.000e+00,\n",
       "        0.000e+00, 0.000e+00, 0.000e+00, 0.000e+00, 1.000e+00, 0.000e+00,\n",
       "        0.000e+00, 0.000e+00, 0.000e+00, 0.000e+00, 1.000e+00, 0.000e+00,\n",
       "        1.000e+00, 0.000e+00, 0.000e+00, 0.000e+00, 0.000e+00, 0.000e+00,\n",
       "        0.000e+00, 0.000e+00, 0.000e+00, 0.000e+00, 0.000e+00, 0.000e+00,\n",
       "        0.000e+00, 0.000e+00, 0.000e+00, 0.000e+00, 0.000e+00, 0.000e+00,\n",
       "        0.000e+00, 0.000e+00, 0.000e+00, 0.000e+00, 0.000e+00, 0.000e+00,\n",
       "        0.000e+00, 0.000e+00, 0.000e+00, 0.000e+00, 0.000e+00, 0.000e+00,\n",
       "        0.000e+00, 0.000e+00, 1.000e+00, 1.000e+00, 0.000e+00, 0.000e+00,\n",
       "        0.000e+00, 1.000e+00]),\n",
       " array([  1. ,   3.7,   6.4,   9.1,  11.8,  14.5,  17.2,  19.9,  22.6,\n",
       "         25.3,  28. ,  30.7,  33.4,  36.1,  38.8,  41.5,  44.2,  46.9,\n",
       "         49.6,  52.3,  55. ,  57.7,  60.4,  63.1,  65.8,  68.5,  71.2,\n",
       "         73.9,  76.6,  79.3,  82. ,  84.7,  87.4,  90.1,  92.8,  95.5,\n",
       "         98.2, 100.9, 103.6, 106.3, 109. , 111.7, 114.4, 117.1, 119.8,\n",
       "        122.5, 125.2, 127.9, 130.6, 133.3, 136. , 138.7, 141.4, 144.1,\n",
       "        146.8, 149.5, 152.2, 154.9, 157.6, 160.3, 163. , 165.7, 168.4,\n",
       "        171.1, 173.8, 176.5, 179.2, 181.9, 184.6, 187.3, 190. , 192.7,\n",
       "        195.4, 198.1, 200.8, 203.5, 206.2, 208.9, 211.6, 214.3, 217. ,\n",
       "        219.7, 222.4, 225.1, 227.8, 230.5, 233.2, 235.9, 238.6, 241.3,\n",
       "        244. , 246.7, 249.4, 252.1, 254.8, 257.5, 260.2, 262.9, 265.6,\n",
       "        268.3, 271. , 273.7, 276.4, 279.1, 281.8, 284.5, 287.2, 289.9,\n",
       "        292.6, 295.3, 298. , 300.7, 303.4, 306.1, 308.8, 311.5, 314.2,\n",
       "        316.9, 319.6, 322.3, 325. , 327.7, 330.4, 333.1, 335.8, 338.5,\n",
       "        341.2, 343.9, 346.6, 349.3, 352. , 354.7, 357.4, 360.1, 362.8,\n",
       "        365.5, 368.2, 370.9, 373.6, 376.3, 379. , 381.7, 384.4, 387.1,\n",
       "        389.8, 392.5, 395.2, 397.9, 400.6, 403.3, 406. , 408.7, 411.4,\n",
       "        414.1, 416.8, 419.5, 422.2, 424.9, 427.6, 430.3, 433. , 435.7,\n",
       "        438.4, 441.1, 443.8, 446.5, 449.2, 451.9, 454.6, 457.3, 460. ,\n",
       "        462.7, 465.4, 468.1, 470.8, 473.5, 476.2, 478.9, 481.6, 484.3,\n",
       "        487. , 489.7, 492.4, 495.1, 497.8, 500.5, 503.2, 505.9, 508.6,\n",
       "        511.3, 514. , 516.7, 519.4, 522.1, 524.8, 527.5, 530.2, 532.9,\n",
       "        535.6, 538.3, 541. ]),\n",
       " <a list of 200 Patch objects>)"
      ]
     },
     "execution_count": 24,
     "metadata": {},
     "output_type": "execute_result"
    },
    {
     "data": {
      "image/png": "[encoded data removed]",
      "text/plain": [
       "<Figure size 432x288 with 1 Axes>"
      ]
     },
     "metadata": {},
     "output_type": "display_data"
    }
   ],
   "source": [
    "plt.hist(i2n.values,bins=200)"
   ]
  },
  {
   "cell_type": "markdown",
   "metadata": {},
   "source": [
    "This is a markdown cell. Replace this cell with your insights and reasons for (9).\n",
    "- a large number of people buy few things in one transaction.\n",
    "- less people buy lots of unique items in one transaction."
   ]
  },
  {
   "cell_type": "markdown",
   "metadata": {},
   "source": [
    "#### Section 4 - Mining Association Rules"
   ]
  },
  {
   "cell_type": "markdown",
   "metadata": {},
   "source": [
    "<span style=\"color:blue\"> 1) Will we complete the counting before the sun burns out (the sun has another $ 5 \\times 10^9 < 2^{33} $ years to burn)? </span>"
   ]
  },
  {
   "cell_type": "markdown",
   "metadata": {},
   "source": [
    "This is a markdown cell. Replace this cell with your answer and reasons for (1).\n",
    "- $2^{541} > 2^{33}*2^{36}*2^{25} > 2^{33}*2^{36}*365*24*60*60$\n",
    "- Therefore, we cannot finish the counting before the sun burns out"
   ]
  },
  {
   "cell_type": "markdown",
   "metadata": {},
   "source": [
    "<span style=\"color:blue\"> 2) Run efficient-apriori in python with min_support=0.025, min_confidence=0.2, max_length=4. Write down the number of rules found and the rule with the highest lift. </span>"
   ]
  },
  {
   "cell_type": "code",
   "execution_count": 25,
   "metadata": {
    "ExecuteTime": {
     "end_time": "2020-09-24T06:07:22.921472Z",
     "start_time": "2020-09-24T06:07:22.506358Z"
    }
   },
   "outputs": [
    {
     "data": {
      "text/html": [
       "<div>\n",
       "<style scoped>\n",
       "    .dataframe tbody tr th:only-of-type {\n",
       "        vertical-align: middle;\n",
       "    }\n",
       "\n",
       "    .dataframe tbody tr th {\n",
       "        vertical-align: top;\n",
       "    }\n",
       "\n",
       "    .dataframe thead th {\n",
       "        text-align: right;\n",
       "    }\n",
       "</style>\n",
       "<table border=\"1\" class=\"dataframe\">\n",
       "  <thead>\n",
       "    <tr style=\"text-align: right;\">\n",
       "      <th></th>\n",
       "      <th>InvoiceNo</th>\n",
       "      <th>StockCode</th>\n",
       "      <th>Description</th>\n",
       "      <th>Quantity</th>\n",
       "      <th>InvoiceDate</th>\n",
       "      <th>UnitPrice</th>\n",
       "      <th>CustomerID</th>\n",
       "    </tr>\n",
       "  </thead>\n",
       "  <tbody>\n",
       "    <tr>\n",
       "      <th>0</th>\n",
       "      <td>536365</td>\n",
       "      <td>85123A</td>\n",
       "      <td>WHITE HANGING HEART T-LIGHT HOLDER</td>\n",
       "      <td>6</td>\n",
       "      <td>2010-12-01 08:26:00</td>\n",
       "      <td>2.55</td>\n",
       "      <td>17850.0</td>\n",
       "    </tr>\n",
       "    <tr>\n",
       "      <th>1</th>\n",
       "      <td>536365</td>\n",
       "      <td>71053</td>\n",
       "      <td>WHITE METAL LANTERN</td>\n",
       "      <td>6</td>\n",
       "      <td>2010-12-01 08:26:00</td>\n",
       "      <td>3.39</td>\n",
       "      <td>17850.0</td>\n",
       "    </tr>\n",
       "    <tr>\n",
       "      <th>2</th>\n",
       "      <td>536365</td>\n",
       "      <td>84406B</td>\n",
       "      <td>CREAM CUPID HEARTS COAT HANGER</td>\n",
       "      <td>8</td>\n",
       "      <td>2010-12-01 08:26:00</td>\n",
       "      <td>2.75</td>\n",
       "      <td>17850.0</td>\n",
       "    </tr>\n",
       "    <tr>\n",
       "      <th>3</th>\n",
       "      <td>536365</td>\n",
       "      <td>84029G</td>\n",
       "      <td>KNITTED UNION FLAG HOT WATER BOTTLE</td>\n",
       "      <td>6</td>\n",
       "      <td>2010-12-01 08:26:00</td>\n",
       "      <td>3.39</td>\n",
       "      <td>17850.0</td>\n",
       "    </tr>\n",
       "    <tr>\n",
       "      <th>4</th>\n",
       "      <td>536365</td>\n",
       "      <td>84029E</td>\n",
       "      <td>RED WOOLLY HOTTIE WHITE HEART.</td>\n",
       "      <td>6</td>\n",
       "      <td>2010-12-01 08:26:00</td>\n",
       "      <td>3.39</td>\n",
       "      <td>17850.0</td>\n",
       "    </tr>\n",
       "  </tbody>\n",
       "</table>\n",
       "</div>"
      ],
      "text/plain": [
       "  InvoiceNo StockCode                          Description  Quantity  \\\n",
       "0    536365    85123A   WHITE HANGING HEART T-LIGHT HOLDER         6   \n",
       "1    536365     71053                  WHITE METAL LANTERN         6   \n",
       "2    536365    84406B       CREAM CUPID HEARTS COAT HANGER         8   \n",
       "3    536365    84029G  KNITTED UNION FLAG HOT WATER BOTTLE         6   \n",
       "4    536365    84029E       RED WOOLLY HOTTIE WHITE HEART.         6   \n",
       "\n",
       "           InvoiceDate  UnitPrice  CustomerID  \n",
       "0  2010-12-01 08:26:00       2.55     17850.0  \n",
       "1  2010-12-01 08:26:00       3.39     17850.0  \n",
       "2  2010-12-01 08:26:00       2.75     17850.0  \n",
       "3  2010-12-01 08:26:00       3.39     17850.0  \n",
       "4  2010-12-01 08:26:00       3.39     17850.0  "
      ]
     },
     "execution_count": 25,
     "metadata": {},
     "output_type": "execute_result"
    }
   ],
   "source": [
    "df=pd.read_csv(\"record.csv\")\n",
    "df=df[(df.Quantity>=0) & (df.CustomerID.notnull())]\n",
    "df.head()"
   ]
  },
  {
   "cell_type": "code",
   "execution_count": 26,
   "metadata": {
    "ExecuteTime": {
     "end_time": "2020-09-24T06:07:23.579752Z",
     "start_time": "2020-09-24T06:07:23.425599Z"
    }
   },
   "outputs": [
    {
     "data": {
      "text/plain": [
       "9120"
      ]
     },
     "execution_count": 26,
     "metadata": {},
     "output_type": "execute_result"
    }
   ],
   "source": [
    "df['Quantity']=1\n",
    "dff=df.groupby([\"InvoiceNo\",\"StockCode\"])['Quantity'].sum()\n",
    "np.sum(dff.values!=1)"
   ]
  },
  {
   "cell_type": "code",
   "execution_count": 27,
   "metadata": {
    "ExecuteTime": {
     "end_time": "2020-09-24T06:07:24.342153Z",
     "start_time": "2020-09-24T06:07:24.301188Z"
    }
   },
   "outputs": [
    {
     "data": {
      "text/plain": [
       "18536"
      ]
     },
     "execution_count": 27,
     "metadata": {},
     "output_type": "execute_result"
    }
   ],
   "source": [
    "invoice=df.InvoiceNo.unique()\n",
    "len(invoice)"
   ]
  },
  {
   "cell_type": "code",
   "execution_count": 28,
   "metadata": {
    "ExecuteTime": {
     "end_time": "2020-09-24T06:07:57.477618Z",
     "start_time": "2020-09-24T06:07:24.851994Z"
    }
   },
   "outputs": [
    {
     "name": "stderr",
     "output_type": "stream",
     "text": [
      "397924it [00:32, 12221.50it/s]\n"
     ]
    }
   ],
   "source": [
    "transaction={i:set() for i in invoice}\n",
    "for index, row in tqdm.tqdm(df.iterrows()):\n",
    "    transaction[row['InvoiceNo']].add(row['StockCode'])"
   ]
  },
  {
   "cell_type": "code",
   "execution_count": 57,
   "metadata": {
    "ExecuteTime": {
     "end_time": "2020-09-24T07:33:35.808236Z",
     "start_time": "2020-09-24T07:33:35.805370Z"
    }
   },
   "outputs": [],
   "source": [
    "itlen=3"
   ]
  },
  {
   "cell_type": "code",
   "execution_count": 58,
   "metadata": {
    "ExecuteTime": {
     "end_time": "2020-09-24T07:33:48.464799Z",
     "start_time": "2020-09-24T07:33:36.515635Z"
    }
   },
   "outputs": [
    {
     "name": "stderr",
     "output_type": "stream",
     "text": [
      " 50%|█████     | 1/2 [00:00<00:00,  1.82it/s]"
     ]
    },
    {
     "name": "stdout",
     "output_type": "stream",
     "text": [
      "cnt 387875\n",
      "len(counter) 141\n",
      "len(mlen[it]) 9870\n"
     ]
    },
    {
     "name": "stderr",
     "output_type": "stream",
     "text": [
      "100%|██████████| 2/2 [00:11<00:00,  5.92s/it]"
     ]
    },
    {
     "name": "stdout",
     "output_type": "stream",
     "text": [
      "cnt 9120636\n",
      "len(counter) 11\n",
      "len(mlen[it]) 4\n",
      "len(ans) 11\n"
     ]
    },
    {
     "name": "stderr",
     "output_type": "stream",
     "text": [
      "\n"
     ]
    }
   ],
   "source": [
    "ans=[]\n",
    "mlen=[[tuple([i]) for i in list(set(df.StockCode))],[],[],[]]\n",
    "counter = {(i):0 for i in mlen[0]}\n",
    "min_support,min_confidence=0.025,0.2\n",
    "log={}\n",
    "for it in tqdm.tqdm(range(1,itlen)):\n",
    "    cnt=0\n",
    "    for key, value in transaction.items(): \n",
    "        for i in itertools.combinations(value, it):\n",
    "            cnt+=1\n",
    "            #if(it==2):print(tuple(i))\n",
    "            for j in permutations(tuple(i)):\n",
    "                if (j in counter):\n",
    "                    counter[j]+=1\n",
    "                    break\n",
    "#     for k in mlen[it-1]:\n",
    "#         se=set(df[df.StockCode==k[0]].InvoiceNo)\n",
    "#         for i in range(1,it):\n",
    "#             cur=set(df[df.StockCode==k[i]].InvoiceNo)\n",
    "#             se.intersection(*cur)\n",
    "#         counter[k]+=len(se)\n",
    "    print('cnt',cnt)\n",
    "    delete = []\n",
    "    for k, v in counter.items():\n",
    "        #if(it==2):print(v,len(invoice),v/len(invoice))\n",
    "        #if v/len(invoice)<0.025:delete.append(k)\n",
    "        if v/len(invoice)<min_support:delete.append(k)\n",
    "        else:\n",
    "            log[k]=v\n",
    "            if(it>1):ans.append(k)\n",
    "    if(it==4):break\n",
    "    for key in delete: del counter[key]\n",
    "    print('len(counter)',len(counter))\n",
    "    if(len(counter)==0):break\n",
    "    for i0,k0 in enumerate(counter.keys()):\n",
    "        for i1,k1 in enumerate(counter.keys()):\n",
    "            if(i0>=i1):continue\n",
    "            succ=True\n",
    "            cur=[]\n",
    "            for i in range(it-1):\n",
    "                if(k0[i]!=k1[i]):succ=False\n",
    "                cur.append(k0[i])    \n",
    "            for i in range(it-1,it):\n",
    "                if(k0[i]==k1[i]):succ=False        \n",
    "            cur+=[k0[-1],k1[-1]]\n",
    "            if(succ):mlen[it].append(tuple(cur))\n",
    "    print('len(mlen[it])',len(mlen[it]))\n",
    "    counter = {(i):0 for i in mlen[it]}\n",
    "print('len(ans)',len(ans))    "
   ]
  },
  {
   "cell_type": "code",
   "execution_count": 59,
   "metadata": {
    "ExecuteTime": {
     "end_time": "2020-09-24T07:33:48.476023Z",
     "start_time": "2020-09-24T07:33:48.467348Z"
    }
   },
   "outputs": [
    {
     "name": "stdout",
     "output_type": "stream",
     "text": [
      "len(conf) 22\n",
      "{('85099B', '23203'): 5.020166666666666, ('23203', '85099B'): 5.020166666666666, ('22382', '20725'): 6.797090296906556, ('20725', '22382'): 6.797090296906556, ('20725', '20727'): 7.067045813213296, ('20727', '20725'): 7.067045813213296, ('20725', '22383'): 7.155601605739843, ('22383', '20725'): 7.155601605739843, ('85099B', '22386'): 7.262238805970149, ('22386', '85099B'): 7.262238805970149, ('20727', '22383'): 7.855411233317172, ('22383', '20727'): 7.855411233317172, ('20725', '22384'): 8.078209488033504, ('22384', '20725'): 8.078209488033504, ('22384', '20727'): 8.781497469910517, ('20727', '22384'): 8.781497469910517, ('82482', '82494L'): 12.210597435940747, ('82494L', '82482'): 12.210597435940747, ('22726', '22727'): 14.197611687499007, ('22727', '22726'): 14.197611687499007, ('22697', '22699'): 18.534184266606044, ('22699', '22697'): 18.534184266606044}\n"
     ]
    }
   ],
   "source": [
    "conf=[]\n",
    "for i in ans:\n",
    "    #print(log[tuple([i[0]])]/len(invoice),log[tuple([i[1]])]/len(invoice),log[i]/len(invoice))\n",
    "    if(log[i]/log[tuple([i[0]])]>=min_confidence):conf.append(i)\n",
    "    if(log[i]/log[tuple([i[1]])]>=min_confidence):conf.append(i[::-1])\n",
    "print('len(conf)',len(conf))\n",
    "\n",
    "lift={}\n",
    "for i in conf:\n",
    "    for j in permutations(i):\n",
    "        if (j in log):\n",
    "            l=(log[j]*len(invoice))/(log[tuple([i[0]])]*log[tuple([i[1]])])\n",
    "            break\n",
    "    lift[i]=l\n",
    "print({k: v for k, v in sorted(lift.items(), key=lambda item: item[1])})"
   ]
  },
  {
   "cell_type": "markdown",
   "metadata": {},
   "source": [
    "- the number of rules found:22\n",
    "- the rule with the highest lift:22699'->'22697' and '22697'->'22699'"
   ]
  },
  {
   "cell_type": "markdown",
   "metadata": {},
   "source": [
    "<span style=\"color:blue\"> 3) Run efficient-apriori in python with min_support=0.02, min_confidence=0.2, max_length=4. Write down the number of rules found and the rule with the highest lift. </span>"
   ]
  },
  {
   "cell_type": "code",
   "execution_count": 60,
   "metadata": {
    "ExecuteTime": {
     "end_time": "2020-09-24T07:34:16.205278Z",
     "start_time": "2020-09-24T07:33:59.472377Z"
    }
   },
   "outputs": [
    {
     "name": "stderr",
     "output_type": "stream",
     "text": [
      " 50%|█████     | 1/2 [00:00<00:00,  1.72it/s]"
     ]
    },
    {
     "name": "stdout",
     "output_type": "stream",
     "text": [
      "cnt 387875\n",
      "len(counter) 209\n",
      "len(mlen[it]) 21736\n"
     ]
    },
    {
     "name": "stderr",
     "output_type": "stream",
     "text": [
      "100%|██████████| 2/2 [00:16<00:00,  8.32s/it]"
     ]
    },
    {
     "name": "stdout",
     "output_type": "stream",
     "text": [
      "cnt 9120636\n",
      "len(counter) 41\n",
      "len(mlen[it]) 32\n",
      "len(ans) 41\n",
      "len(conf) 82\n",
      "{('85099B', '20725'): 3.819724592707525, ('20725', '85099B'): 3.819724592707525, ('85099B', '23203'): 5.020166666666666, ('23203', '85099B'): 5.020166666666666, ('23298', '47566'): 5.1783973226469024, ('47566', '23298'): 5.1783973226469024, ('22411', '85099B'): 5.807164556962025, ('85099B', '22411'): 5.807164556962025, ('22423', '22699'): 5.834907272498336, ('22699', '22423'): 5.834907272498336, ('22697', '22423'): 5.887622891230645, ('22423', '22697'): 5.887622891230645, ('23209', '20725'): 5.989342455738802, ('20725', '23209'): 5.989342455738802, ('85123A', '21733'): 6.3071935621736, ('21733', '85123A'): 6.3071935621736, ('20725', '23206'): 6.459439169952897, ('23206', '20725'): 6.459439169952897, ('21931', '85099B'): 6.495981912144702, ('85099B', '21931'): 6.495981912144702, ('22382', '20725'): 6.797090296906556, ('20725', '22382'): 6.797090296906556, ('20725', '20728'): 6.832799271427126, ('20728', '20725'): 6.832799271427126, ('20725', '20727'): 7.067045813213296, ('20727', '20725'): 7.067045813213296, ('20725', '22383'): 7.155601605739843, ('22383', '20725'): 7.155601605739843, ('85099B', '22386'): 7.262238805970149, ('22386', '85099B'): 7.262238805970149, ('85099B', '85099F'): 7.333623853211009, ('85099F', '85099B'): 7.333623853211009, ('22382', '20727'): 7.454518865165253, ('20727', '22382'): 7.454518865165253, ('23203', '23209'): 7.557845519475738, ('23209', '23203'): 7.557845519475738, ('20726', '20725'): 7.593415201801359, ('20725', '20726'): 7.593415201801359, ('22382', '20728'): 7.593792172739541, ('20728', '22382'): 7.593792172739541, ('22384', '22383'): 7.635579841261832, ('22383', '22384'): 7.635579841261832, ('20727', '20728'): 7.6790103047335645, ('20728', '20727'): 7.6790103047335645, ('20727', '22383'): 7.855411233317172, ('22383', '20727'): 7.855411233317172, ('22382', '22383'): 8.040485829959515, ('22383', '22382'): 8.040485829959515, ('20725', '22384'): 8.078209488033504, ('22384', '20725'): 8.078209488033504, ('23209', '23206'): 8.08506926110772, ('23206', '23209'): 8.08506926110772, ('20728', '22383'): 8.315589089443773, ('22383', '20728'): 8.315589089443773, ('22384', '20727'): 8.781497469910517, ('20727', '22384'): 8.781497469910517, ('22384', '20728'): 8.80069739566307, ('20728', '22384'): 8.80069739566307, ('20726', '22382'): 9.266169645502123, ('22382', '20726'): 9.266169645502123, ('23203', '23202'): 9.515217808482058, ('23202', '23203'): 9.515217808482058, ('22469', '22470'): 9.800642017457367, ('22470', '22469'): 9.800642017457367, ('82482', '82494L'): 12.210597435940747, ('82494L', '82482'): 12.210597435940747, ('22086', '22910'): 12.238655462184873, ('22910', '22086'): 12.238655462184873, ('22728', '22727'): 13.653724602446797, ('22727', '22728'): 13.653724602446797, ('22726', '22727'): 14.197611687499007, ('22727', '22726'): 14.197611687499007, ('23300', '23301'): 17.877282006415864, ('23301', '23300'): 17.877282006415864, ('22629', '22630'): 18.12293388429752, ('22630', '22629'): 18.12293388429752, ('22697', '22699'): 18.534184266606044, ('22699', '22697'): 18.534184266606044, ('22698', '22699'): 18.563760485864183, ('22699', '22698'): 18.563760485864183, ('22697', '22698'): 22.19325552582536, ('22698', '22697'): 22.19325552582536}\n"
     ]
    },
    {
     "name": "stderr",
     "output_type": "stream",
     "text": [
      "\n"
     ]
    }
   ],
   "source": [
    "ans=[]\n",
    "mlen=[[tuple([i]) for i in list(set(df.StockCode))],[],[],[]]\n",
    "counter = {(i):0 for i in mlen[0]}\n",
    "min_support,min_confidence=0.02,0.2\n",
    "log={}\n",
    "for it in tqdm.tqdm(range(1,itlen)):\n",
    "    cnt=0\n",
    "    for key, value in transaction.items(): \n",
    "        for i in itertools.combinations(value, it):\n",
    "            cnt+=1\n",
    "            #if(it==2):print(tuple(i))\n",
    "            for j in permutations(tuple(i)):\n",
    "                if (j in counter):\n",
    "                    counter[j]+=1\n",
    "                    break\n",
    "    print('cnt',cnt)\n",
    "    delete = []\n",
    "    for k, v in counter.items():\n",
    "        #if(it==2):print(v,len(invoice),v/len(invoice))\n",
    "        #if v/len(invoice)<0.025:delete.append(k)\n",
    "        if v/len(invoice)<min_support:delete.append(k)\n",
    "        else:\n",
    "            log[k]=v\n",
    "            if(it>1):ans.append(k)\n",
    "    if(it==4):break\n",
    "    for key in delete: del counter[key]\n",
    "    print('len(counter)',len(counter))\n",
    "    if(len(counter)==0):break\n",
    "    for i0,k0 in enumerate(counter.keys()):\n",
    "        for i1,k1 in enumerate(counter.keys()):\n",
    "            if(i0>=i1):continue\n",
    "            succ=True\n",
    "            cur=[]\n",
    "            for i in range(it-1):\n",
    "                if(k0[i]!=k1[i]):succ=False\n",
    "                cur.append(k0[i])    \n",
    "            for i in range(it-1,it):\n",
    "                if(k0[i]==k1[i]):succ=False        \n",
    "            cur+=[k0[-1],k1[-1]]\n",
    "            if(succ):mlen[it].append(tuple(cur))\n",
    "    print('len(mlen[it])',len(mlen[it]))\n",
    "    if(len(mlen[it])==0):break\n",
    "    counter = {(i):0 for i in mlen[it]}\n",
    "print('len(ans)',len(ans))    \n",
    "conf=[]\n",
    "for i in ans:\n",
    "    #print(log[tuple([i[0]])]/len(invoice),log[tuple([i[1]])]/len(invoice),log[i]/len(invoice))\n",
    "    if(log[i]/log[tuple([i[0]])]>=min_confidence):conf.append(i)\n",
    "    if(log[i]/log[tuple([i[1]])]>=min_confidence):conf.append(i[::-1])\n",
    "print('len(conf)',len(conf))\n",
    "\n",
    "lift={}\n",
    "for i in conf:\n",
    "    for j in permutations(i):\n",
    "        if (j in log):\n",
    "            l=(log[j]*len(invoice))/(log[tuple([i[0]])]*log[tuple([i[1]])])\n",
    "            break\n",
    "    lift[i]=l\n",
    "print({k: v for k, v in sorted(lift.items(), key=lambda item: item[1])})"
   ]
  },
  {
   "cell_type": "markdown",
   "metadata": {},
   "source": [
    "- the number of rules found:84\n",
    "- the rule with the highest lift:22699'->'22698' and '22698'->'22699'"
   ]
  },
  {
   "cell_type": "markdown",
   "metadata": {},
   "source": [
    "<span style=\"color:blue\"> 4) Run efficient-apriori in python with min_support=0.025, min_confidence=0.4, max_length=4. Write down the number of rules found and the rule with the highest lift. </span>"
   ]
  },
  {
   "cell_type": "code",
   "execution_count": 61,
   "metadata": {
    "ExecuteTime": {
     "end_time": "2020-09-24T07:34:34.078611Z",
     "start_time": "2020-09-24T07:34:16.207688Z"
    }
   },
   "outputs": [
    {
     "name": "stderr",
     "output_type": "stream",
     "text": [
      " 50%|█████     | 1/2 [00:01<00:01,  1.05s/it]"
     ]
    },
    {
     "name": "stdout",
     "output_type": "stream",
     "text": [
      "cnt 387875\n",
      "len(counter) 141\n",
      "len(mlen[it]) 9870\n"
     ]
    },
    {
     "name": "stderr",
     "output_type": "stream",
     "text": [
      "100%|██████████| 2/2 [00:17<00:00,  8.86s/it]"
     ]
    },
    {
     "name": "stdout",
     "output_type": "stream",
     "text": [
      "cnt 9120636\n",
      "len(counter) 11\n",
      "len(mlen[it]) 4\n",
      "len(ans) 11\n",
      "len(conf) 19\n",
      "{('23203', '85099B'): 5.020166666666666, ('22382', '20725'): 6.797090296906556, ('20725', '20727'): 7.067045813213296, ('20727', '20725'): 7.067045813213296, ('20725', '22383'): 7.155601605739843, ('22383', '20725'): 7.155601605739843, ('22386', '85099B'): 7.262238805970149, ('20727', '22383'): 7.855411233317172, ('22383', '20727'): 7.855411233317172, ('20725', '22384'): 8.078209488033504, ('22384', '20725'): 8.078209488033504, ('22384', '20727'): 8.781497469910517, ('20727', '22384'): 8.781497469910517, ('82482', '82494L'): 12.210597435940747, ('82494L', '82482'): 12.210597435940747, ('22726', '22727'): 14.197611687499007, ('22727', '22726'): 14.197611687499007, ('22697', '22699'): 18.534184266606044, ('22699', '22697'): 18.534184266606044}\n"
     ]
    },
    {
     "name": "stderr",
     "output_type": "stream",
     "text": [
      "\n"
     ]
    }
   ],
   "source": [
    "ans=[]\n",
    "mlen=[[tuple([i]) for i in list(set(df.StockCode))],[],[],[]]\n",
    "counter = {(i):0 for i in mlen[0]}\n",
    "min_support,min_confidence=0.025,0.4\n",
    "log={}\n",
    "for it in tqdm.tqdm(range(1,itlen)):\n",
    "    cnt=0\n",
    "    for key, value in transaction.items(): \n",
    "        for i in itertools.combinations(value, it):\n",
    "            cnt+=1\n",
    "            #if(it==2):print(tuple(i))\n",
    "            for j in permutations(tuple(i)):\n",
    "                if (j in counter):\n",
    "                    counter[j]+=1\n",
    "                    break\n",
    "    print('cnt',cnt)\n",
    "    delete = []\n",
    "    for k, v in counter.items():\n",
    "        #if(it==2):print(v,len(invoice),v/len(invoice))\n",
    "        #if v/len(invoice)<0.025:delete.append(k)\n",
    "        if v/len(invoice)<min_support:delete.append(k)\n",
    "        else:\n",
    "            log[k]=v\n",
    "            if(it>1):ans.append(k)\n",
    "    if(it==4):break\n",
    "    for key in delete: del counter[key]\n",
    "    print('len(counter)',len(counter))\n",
    "    if(len(counter)==0):break\n",
    "    for i0,k0 in enumerate(counter.keys()):\n",
    "        for i1,k1 in enumerate(counter.keys()):\n",
    "            if(i0>=i1):continue\n",
    "            succ=True\n",
    "            cur=[]\n",
    "            for i in range(it-1):\n",
    "                if(k0[i]!=k1[i]):succ=False\n",
    "                cur.append(k0[i])    \n",
    "            for i in range(it-1,it):\n",
    "                if(k0[i]==k1[i]):succ=False        \n",
    "            cur+=[k0[-1],k1[-1]]\n",
    "            if(succ):mlen[it].append(tuple(cur))\n",
    "    print('len(mlen[it])',len(mlen[it]))\n",
    "    if(len(mlen[it])==0):break\n",
    "    counter = {(i):0 for i in mlen[it]}\n",
    "print('len(ans)',len(ans))    \n",
    "conf=[]\n",
    "for i in ans:\n",
    "    #print(log[tuple([i[0]])]/len(invoice),log[tuple([i[1]])]/len(invoice),log[i]/len(invoice))\n",
    "    if(log[i]/log[tuple([i[0]])]>=min_confidence):conf.append(i)\n",
    "    if(log[i]/log[tuple([i[1]])]>=min_confidence):conf.append(i[::-1])\n",
    "print('len(conf)',len(conf))\n",
    "\n",
    "lift={}\n",
    "for i in conf:\n",
    "    for j in permutations(i):\n",
    "        if (j in log):\n",
    "            l=(log[j]*len(invoice))/(log[tuple([i[0]])]*log[tuple([i[1]])])\n",
    "            break\n",
    "    lift[i]=l\n",
    "print({k: v for k, v in sorted(lift.items(), key=lambda item: item[1])})"
   ]
  },
  {
   "cell_type": "markdown",
   "metadata": {},
   "source": [
    "This is a markdown cell. Replace this cell with the rule you find for (4)."
   ]
  },
  {
   "cell_type": "markdown",
   "metadata": {},
   "source": [
    "<span style=\"color:blue\"> 5) Compare the first two cases. How do they differ in the time taken for the algorithm to run, the number of rules found, and the lift of the highest lift rule? Briefly explain why each of these findings occur, based on the effects of changing min_support.  </span>"
   ]
  },
  {
   "cell_type": "markdown",
   "metadata": {},
   "source": [
    "# case 1 vs case 2\n",
    "- time difference: 5m 40s:5m 45s\n",
    "    - Support Counting step is most time consuming part in my program, so there is not much time difference\n",
    "    - Because the min_support in the case 2 is less than case one, less itemsets are generated in the Frequent Itemset Generation phase in the case 1. \n",
    "- the number of rules: 22:84\n",
    "    - There are more candidate itemsets for Rule Generation phase, therefore, we have more rules generated.\n",
    "- the lift of the highest lift rule:\n",
    "    "
   ]
  },
  {
   "cell_type": "markdown",
   "metadata": {},
   "source": [
    "<span style=\"color:blue\"> 6) Compare the first and third case. How do they differ in the number of rules found? Briefly explain why this finding occurs, based on the effects of changing min_confidence. </span>"
   ]
  },
  {
   "cell_type": "markdown",
   "metadata": {},
   "source": [
    "# case 1 vs case 3\n",
    "- the number of rules: 22:19\n",
    "    - There are the same candidate itemsets generated in Frequent Itemset Generation phase. However, the limitation for min_confidence is different. The larger min_confidence generate less rules.   "
   ]
  },
  {
   "cell_type": "markdown",
   "metadata": {},
   "source": [
    "<span style=\"color:blue\"> 7) Report the descriptions of the items associated with the highest lift rule you found in the three queries (you may use any method to do this). Does the rule make sense? </span>"
   ]
  },
  {
   "cell_type": "code",
   "execution_count": 69,
   "metadata": {
    "ExecuteTime": {
     "end_time": "2020-09-24T07:43:34.346517Z",
     "start_time": "2020-09-24T07:43:34.344315Z"
    }
   },
   "outputs": [],
   "source": [
    "# ('22697', '22699'): 18.534184266606044, ('22699', '22697'): 18.534184266606044\n",
    "# ('22697', '22698'): 22.19325552582536, ('22698', '22697'): 22.19325552582536  \n",
    "# ('22697', '22699'): 18.534184266606044, ('22699', '22697'): 18.534184266606044"
   ]
  },
  {
   "cell_type": "code",
   "execution_count": 72,
   "metadata": {
    "ExecuteTime": {
     "end_time": "2020-09-24T07:44:15.674047Z",
     "start_time": "2020-09-24T07:44:15.538219Z"
    }
   },
   "outputs": [
    {
     "name": "stdout",
     "output_type": "stream",
     "text": [
      "GREEN REGENCY TEACUP AND SAUCER  ROSES REGENCY TEACUP AND SAUCER \n",
      "GREEN REGENCY TEACUP AND SAUCER  PINK REGENCY TEACUP AND SAUCER\n"
     ]
    },
    {
     "data": {
      "text/plain": [
       "('GREEN REGENCY TEACUP AND SAUCER', 'ROSES REGENCY TEACUP AND SAUCER ')"
      ]
     },
     "execution_count": 72,
     "metadata": {},
     "output_type": "execute_result"
    }
   ],
   "source": [
    "print(df[df.StockCode=='22697']['Description'].iloc[0],'',df[df.StockCode=='22699']['Description'].iloc[0])\n",
    "print(df[df.StockCode=='22697']['Description'].iloc[0],'',df[df.StockCode=='22698']['Description'].iloc[0])\n",
    "df[df.StockCode=='22697']['Description'].iloc[0],df[df.StockCode=='22699']['Description'].iloc[0]"
   ]
  },
  {
   "cell_type": "markdown",
   "metadata": {},
   "source": [
    "- case 1: GREEN REGENCY TEACUP AND SAUCER, ROSES REGENCY TEACUP AND SAUCER\n",
    "- case 2: GREEN REGENCY TEACUP AND SAUCER, PINK REGENCY TEACUP AND SAUCER\n",
    "- case 3: GREEN REGENCY TEACUP AND SAUCER, ROSES REGENCY TEACUP AND SAUCER\n",
    "- Yes, make sense. Customers perfer to buy teacups with two different colors together."
   ]
  }
 ],
 "metadata": {
  "kernelspec": {
   "display_name": "Python 3",
   "language": "python",
   "name": "python3"
  },
  "language_info": {
   "codemirror_mode": {
    "name": "ipython",
    "version": 3
   },
   "file_extension": ".py",
   "mimetype": "text/x-python",
   "name": "python",
   "nbconvert_exporter": "python",
   "pygments_lexer": "ipython3",
   "version": "3.6.10"
  }
 },
 "nbformat": 4,
 "nbformat_minor": 2
}
